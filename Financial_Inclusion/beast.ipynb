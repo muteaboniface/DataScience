{
 "cells": [
  {
   "cell_type": "markdown",
   "metadata": {
    "id": "42Ke-zpx5nLK"
   },
   "source": [
    "## Financial Inclusion in Africa\n"
   ]
  },
  {
   "cell_type": "markdown",
   "metadata": {
    "id": "erAGSH0X5nLS"
   },
   "source": [
    "### Background Information\n",
    "Financial inclusion is the main obstacles to economic and human development in Africa as per studies and research conducted. Only 13.9% of the Adult population is estimated to have access to commercial bank accounts.\n",
    "Acces to a bank account is a contributor to long term economic growth"
   ]
  },
  {
   "cell_type": "markdown",
   "metadata": {
    "id": "UlARh_XZ5nLT"
   },
   "source": [
    "## GOAl\n",
    "Predict which individuals in Kenya,Uganda,Tanzania and Rwanda are most likely to have or use a bank account.   \n",
    "In the process reveal insights into some of the key demographic factors that might drive individuals’ financial outcomes."
   ]
  },
  {
   "cell_type": "markdown",
   "metadata": {
    "id": "8b-n80NS5nLT"
   },
   "source": [
    "#### Importing essential modules"
   ]
  },
  {
   "cell_type": "code",
   "execution_count": 1,
   "metadata": {
    "id": "lyJEMLlC5nLU"
   },
   "outputs": [],
   "source": [
    "import numpy as np\n",
    "import matplotlib.pyplot as plt\n",
    "import seaborn as sns\n",
    "import pandas as pd\n",
    "import os\n",
    "import platform"
   ]
  },
  {
   "cell_type": "code",
   "execution_count": 2,
   "metadata": {
    "colab": {
     "base_uri": "https://localhost:8080/"
    },
    "id": "Yd9biADT5nLV",
    "outputId": "032f7eb6-e9c1-4ca5-df3d-9ed61b92e182"
   },
   "outputs": [
    {
     "name": "stdout",
     "output_type": "stream",
     "text": [
      "Python :  3.8.3\n",
      "Pandas :  1.1.1\n",
      "NumPy :  1.19.0\n",
      "Seaborn :  0.11.0\n"
     ]
    }
   ],
   "source": [
    "def set_seed(SEED=42):\n",
    "    np.random.seed = SEED\n",
    "    os.environ['PYTHONHASHSEED'] = str(SEED)\n",
    "    \n",
    "set_seed()\n",
    "version = platform.python_version()\n",
    "print(\"Python : \",version)\n",
    "print(\"Pandas : \",pd.__version__)\n",
    "print(\"NumPy : \",np.__version__)\n",
    "print(\"Seaborn : \",sns.__version__)"
   ]
  },
  {
   "cell_type": "markdown",
   "metadata": {
    "id": "3Mrwc60X5nLW"
   },
   "source": [
    "### Getting our data"
   ]
  },
  {
   "cell_type": "code",
   "execution_count": 3,
   "metadata": {
    "id": "hr36vLI95nLW"
   },
   "outputs": [],
   "source": [
    "train = pd.read_csv('datasets/Train_v2.csv')\n",
    "test = pd.read_csv('datasets/Test_v2.csv')\n",
    "variable = pd.read_csv('datasets/VariableDefinitions.csv')\n",
    "Submission = pd.read_csv('datasets/SubmissionFile.csv')"
   ]
  },
  {
   "cell_type": "markdown",
   "metadata": {
    "id": "Qp81b9Pm5nLX"
   },
   "source": [
    "#### Visualize and understand our data"
   ]
  },
  {
   "cell_type": "code",
   "execution_count": 4,
   "metadata": {
    "colab": {
     "base_uri": "https://localhost:8080/",
     "height": 326
    },
    "id": "b_zWS0895nLX",
    "outputId": "0870763e-168f-4905-bbf3-421ac533693c"
   },
   "outputs": [
    {
     "data": {
      "text/html": [
       "<div>\n",
       "<style scoped>\n",
       "    .dataframe tbody tr th:only-of-type {\n",
       "        vertical-align: middle;\n",
       "    }\n",
       "\n",
       "    .dataframe tbody tr th {\n",
       "        vertical-align: top;\n",
       "    }\n",
       "\n",
       "    .dataframe thead th {\n",
       "        text-align: right;\n",
       "    }\n",
       "</style>\n",
       "<table border=\"1\" class=\"dataframe\">\n",
       "  <thead>\n",
       "    <tr style=\"text-align: right;\">\n",
       "      <th></th>\n",
       "      <th>country</th>\n",
       "      <th>year</th>\n",
       "      <th>uniqueid</th>\n",
       "      <th>bank_account</th>\n",
       "      <th>location_type</th>\n",
       "      <th>cellphone_access</th>\n",
       "      <th>household_size</th>\n",
       "      <th>age_of_respondent</th>\n",
       "      <th>gender_of_respondent</th>\n",
       "      <th>relationship_with_head</th>\n",
       "      <th>marital_status</th>\n",
       "      <th>education_level</th>\n",
       "      <th>job_type</th>\n",
       "    </tr>\n",
       "  </thead>\n",
       "  <tbody>\n",
       "    <tr>\n",
       "      <th>0</th>\n",
       "      <td>Kenya</td>\n",
       "      <td>2018</td>\n",
       "      <td>uniqueid_1</td>\n",
       "      <td>Yes</td>\n",
       "      <td>Rural</td>\n",
       "      <td>Yes</td>\n",
       "      <td>3</td>\n",
       "      <td>24</td>\n",
       "      <td>Female</td>\n",
       "      <td>Spouse</td>\n",
       "      <td>Married/Living together</td>\n",
       "      <td>Secondary education</td>\n",
       "      <td>Self employed</td>\n",
       "    </tr>\n",
       "    <tr>\n",
       "      <th>1</th>\n",
       "      <td>Kenya</td>\n",
       "      <td>2018</td>\n",
       "      <td>uniqueid_2</td>\n",
       "      <td>No</td>\n",
       "      <td>Rural</td>\n",
       "      <td>No</td>\n",
       "      <td>5</td>\n",
       "      <td>70</td>\n",
       "      <td>Female</td>\n",
       "      <td>Head of Household</td>\n",
       "      <td>Widowed</td>\n",
       "      <td>No formal education</td>\n",
       "      <td>Government Dependent</td>\n",
       "    </tr>\n",
       "    <tr>\n",
       "      <th>2</th>\n",
       "      <td>Kenya</td>\n",
       "      <td>2018</td>\n",
       "      <td>uniqueid_3</td>\n",
       "      <td>Yes</td>\n",
       "      <td>Urban</td>\n",
       "      <td>Yes</td>\n",
       "      <td>5</td>\n",
       "      <td>26</td>\n",
       "      <td>Male</td>\n",
       "      <td>Other relative</td>\n",
       "      <td>Single/Never Married</td>\n",
       "      <td>Vocational/Specialised training</td>\n",
       "      <td>Self employed</td>\n",
       "    </tr>\n",
       "    <tr>\n",
       "      <th>3</th>\n",
       "      <td>Kenya</td>\n",
       "      <td>2018</td>\n",
       "      <td>uniqueid_4</td>\n",
       "      <td>No</td>\n",
       "      <td>Rural</td>\n",
       "      <td>Yes</td>\n",
       "      <td>5</td>\n",
       "      <td>34</td>\n",
       "      <td>Female</td>\n",
       "      <td>Head of Household</td>\n",
       "      <td>Married/Living together</td>\n",
       "      <td>Primary education</td>\n",
       "      <td>Formally employed Private</td>\n",
       "    </tr>\n",
       "    <tr>\n",
       "      <th>4</th>\n",
       "      <td>Kenya</td>\n",
       "      <td>2018</td>\n",
       "      <td>uniqueid_5</td>\n",
       "      <td>No</td>\n",
       "      <td>Urban</td>\n",
       "      <td>No</td>\n",
       "      <td>8</td>\n",
       "      <td>26</td>\n",
       "      <td>Male</td>\n",
       "      <td>Child</td>\n",
       "      <td>Single/Never Married</td>\n",
       "      <td>Primary education</td>\n",
       "      <td>Informally employed</td>\n",
       "    </tr>\n",
       "  </tbody>\n",
       "</table>\n",
       "</div>"
      ],
      "text/plain": [
       "  country  year    uniqueid bank_account location_type cellphone_access  \\\n",
       "0   Kenya  2018  uniqueid_1          Yes         Rural              Yes   \n",
       "1   Kenya  2018  uniqueid_2           No         Rural               No   \n",
       "2   Kenya  2018  uniqueid_3          Yes         Urban              Yes   \n",
       "3   Kenya  2018  uniqueid_4           No         Rural              Yes   \n",
       "4   Kenya  2018  uniqueid_5           No         Urban               No   \n",
       "\n",
       "   household_size  age_of_respondent gender_of_respondent  \\\n",
       "0               3                 24               Female   \n",
       "1               5                 70               Female   \n",
       "2               5                 26                 Male   \n",
       "3               5                 34               Female   \n",
       "4               8                 26                 Male   \n",
       "\n",
       "  relationship_with_head           marital_status  \\\n",
       "0                 Spouse  Married/Living together   \n",
       "1      Head of Household                  Widowed   \n",
       "2         Other relative     Single/Never Married   \n",
       "3      Head of Household  Married/Living together   \n",
       "4                  Child     Single/Never Married   \n",
       "\n",
       "                   education_level                   job_type  \n",
       "0              Secondary education              Self employed  \n",
       "1              No formal education       Government Dependent  \n",
       "2  Vocational/Specialised training              Self employed  \n",
       "3                Primary education  Formally employed Private  \n",
       "4                Primary education        Informally employed  "
      ]
     },
     "execution_count": 4,
     "metadata": {},
     "output_type": "execute_result"
    }
   ],
   "source": [
    "train.head()"
   ]
  },
  {
   "cell_type": "code",
   "execution_count": 5,
   "metadata": {
    "colab": {
     "base_uri": "https://localhost:8080/"
    },
    "id": "l2YRf6c-5nLY",
    "outputId": "dd6862c7-07b7-41ab-c5e3-ef42e056c362"
   },
   "outputs": [
    {
     "data": {
      "text/plain": [
       "(23524, 13)"
      ]
     },
     "execution_count": 5,
     "metadata": {},
     "output_type": "execute_result"
    }
   ],
   "source": [
    "train.shape"
   ]
  },
  {
   "cell_type": "code",
   "execution_count": 6,
   "metadata": {
    "colab": {
     "base_uri": "https://localhost:8080/",
     "height": 421
    },
    "id": "opkBrJJb5nLY",
    "outputId": "993b76ec-7c8d-494a-fd36-93494ca3ecdb"
   },
   "outputs": [
    {
     "data": {
      "text/html": [
       "<div>\n",
       "<style scoped>\n",
       "    .dataframe tbody tr th:only-of-type {\n",
       "        vertical-align: middle;\n",
       "    }\n",
       "\n",
       "    .dataframe tbody tr th {\n",
       "        vertical-align: top;\n",
       "    }\n",
       "\n",
       "    .dataframe thead th {\n",
       "        text-align: right;\n",
       "    }\n",
       "</style>\n",
       "<table border=\"1\" class=\"dataframe\">\n",
       "  <thead>\n",
       "    <tr style=\"text-align: right;\">\n",
       "      <th></th>\n",
       "      <th>Variable Definitions</th>\n",
       "      <th>Unnamed: 1</th>\n",
       "    </tr>\n",
       "  </thead>\n",
       "  <tbody>\n",
       "    <tr>\n",
       "      <th>0</th>\n",
       "      <td>country</td>\n",
       "      <td>Country interviewee is in.</td>\n",
       "    </tr>\n",
       "    <tr>\n",
       "      <th>1</th>\n",
       "      <td>year</td>\n",
       "      <td>Year survey was done in.</td>\n",
       "    </tr>\n",
       "    <tr>\n",
       "      <th>2</th>\n",
       "      <td>uniqueid</td>\n",
       "      <td>Unique identifier for each interviewee</td>\n",
       "    </tr>\n",
       "    <tr>\n",
       "      <th>3</th>\n",
       "      <td>location_type</td>\n",
       "      <td>Type of location: Rural, Urban</td>\n",
       "    </tr>\n",
       "    <tr>\n",
       "      <th>4</th>\n",
       "      <td>cellphone_access</td>\n",
       "      <td>If interviewee has access to a cellphone: Yes, No</td>\n",
       "    </tr>\n",
       "    <tr>\n",
       "      <th>5</th>\n",
       "      <td>household_size</td>\n",
       "      <td>Number of people living in one house</td>\n",
       "    </tr>\n",
       "    <tr>\n",
       "      <th>6</th>\n",
       "      <td>age_of_respondent</td>\n",
       "      <td>The age of the interviewee</td>\n",
       "    </tr>\n",
       "    <tr>\n",
       "      <th>7</th>\n",
       "      <td>gender_of_respondent</td>\n",
       "      <td>Gender of interviewee: Male, Female</td>\n",
       "    </tr>\n",
       "    <tr>\n",
       "      <th>8</th>\n",
       "      <td>relationship_with_head</td>\n",
       "      <td>The interviewee’s relationship with the head o...</td>\n",
       "    </tr>\n",
       "    <tr>\n",
       "      <th>9</th>\n",
       "      <td>marital_status</td>\n",
       "      <td>The martial status of the interviewee: Married...</td>\n",
       "    </tr>\n",
       "    <tr>\n",
       "      <th>10</th>\n",
       "      <td>education_level</td>\n",
       "      <td>Highest level of education: No formal educatio...</td>\n",
       "    </tr>\n",
       "    <tr>\n",
       "      <th>11</th>\n",
       "      <td>job_type</td>\n",
       "      <td>Type of job interviewee has: Farming and Fishi...</td>\n",
       "    </tr>\n",
       "  </tbody>\n",
       "</table>\n",
       "</div>"
      ],
      "text/plain": [
       "      Variable Definitions                                         Unnamed: 1\n",
       "0                  country                         Country interviewee is in.\n",
       "1                     year                           Year survey was done in.\n",
       "2                 uniqueid             Unique identifier for each interviewee\n",
       "3            location_type                     Type of location: Rural, Urban\n",
       "4         cellphone_access  If interviewee has access to a cellphone: Yes, No\n",
       "5           household_size               Number of people living in one house\n",
       "6        age_of_respondent                         The age of the interviewee\n",
       "7     gender_of_respondent                Gender of interviewee: Male, Female\n",
       "8   relationship_with_head  The interviewee’s relationship with the head o...\n",
       "9           marital_status  The martial status of the interviewee: Married...\n",
       "10         education_level  Highest level of education: No formal educatio...\n",
       "11                job_type  Type of job interviewee has: Farming and Fishi..."
      ]
     },
     "execution_count": 6,
     "metadata": {},
     "output_type": "execute_result"
    }
   ],
   "source": [
    "variable"
   ]
  },
  {
   "cell_type": "code",
   "execution_count": 7,
   "metadata": {
    "colab": {
     "base_uri": "https://localhost:8080/"
    },
    "id": "MLSb-0Bs5nLY",
    "outputId": "28e30862-c810-4199-fdd7-d091af5c8b0b"
   },
   "outputs": [
    {
     "name": "stdout",
     "output_type": "stream",
     "text": [
      "<class 'pandas.core.frame.DataFrame'>\n",
      "RangeIndex: 23524 entries, 0 to 23523\n",
      "Data columns (total 13 columns):\n",
      " #   Column                  Non-Null Count  Dtype \n",
      "---  ------                  --------------  ----- \n",
      " 0   country                 23524 non-null  object\n",
      " 1   year                    23524 non-null  int64 \n",
      " 2   uniqueid                23524 non-null  object\n",
      " 3   bank_account            23524 non-null  object\n",
      " 4   location_type           23524 non-null  object\n",
      " 5   cellphone_access        23524 non-null  object\n",
      " 6   household_size          23524 non-null  int64 \n",
      " 7   age_of_respondent       23524 non-null  int64 \n",
      " 8   gender_of_respondent    23524 non-null  object\n",
      " 9   relationship_with_head  23524 non-null  object\n",
      " 10  marital_status          23524 non-null  object\n",
      " 11  education_level         23524 non-null  object\n",
      " 12  job_type                23524 non-null  object\n",
      "dtypes: int64(3), object(10)\n",
      "memory usage: 1.4+ MB\n"
     ]
    }
   ],
   "source": [
    "train.info()"
   ]
  },
  {
   "cell_type": "code",
   "execution_count": 8,
   "metadata": {
    "id": "-tnRI9_T5nLZ"
   },
   "outputs": [],
   "source": [
    "train.bank_account.replace(['Yes','No'],[1,0],inplace = True)"
   ]
  },
  {
   "cell_type": "code",
   "execution_count": 9,
   "metadata": {
    "colab": {
     "base_uri": "https://localhost:8080/",
     "height": 326
    },
    "id": "8l3qX24_5nLZ",
    "outputId": "9bc81c31-3850-4f83-b7b1-0f91f2892585"
   },
   "outputs": [
    {
     "data": {
      "text/html": [
       "<div>\n",
       "<style scoped>\n",
       "    .dataframe tbody tr th:only-of-type {\n",
       "        vertical-align: middle;\n",
       "    }\n",
       "\n",
       "    .dataframe tbody tr th {\n",
       "        vertical-align: top;\n",
       "    }\n",
       "\n",
       "    .dataframe thead th {\n",
       "        text-align: right;\n",
       "    }\n",
       "</style>\n",
       "<table border=\"1\" class=\"dataframe\">\n",
       "  <thead>\n",
       "    <tr style=\"text-align: right;\">\n",
       "      <th></th>\n",
       "      <th>country</th>\n",
       "      <th>year</th>\n",
       "      <th>uniqueid</th>\n",
       "      <th>bank_account</th>\n",
       "      <th>location_type</th>\n",
       "      <th>cellphone_access</th>\n",
       "      <th>household_size</th>\n",
       "      <th>age_of_respondent</th>\n",
       "      <th>gender_of_respondent</th>\n",
       "      <th>relationship_with_head</th>\n",
       "      <th>marital_status</th>\n",
       "      <th>education_level</th>\n",
       "      <th>job_type</th>\n",
       "    </tr>\n",
       "  </thead>\n",
       "  <tbody>\n",
       "    <tr>\n",
       "      <th>0</th>\n",
       "      <td>Kenya</td>\n",
       "      <td>2018</td>\n",
       "      <td>uniqueid_1</td>\n",
       "      <td>1</td>\n",
       "      <td>Rural</td>\n",
       "      <td>Yes</td>\n",
       "      <td>3</td>\n",
       "      <td>24</td>\n",
       "      <td>Female</td>\n",
       "      <td>Spouse</td>\n",
       "      <td>Married/Living together</td>\n",
       "      <td>Secondary education</td>\n",
       "      <td>Self employed</td>\n",
       "    </tr>\n",
       "    <tr>\n",
       "      <th>1</th>\n",
       "      <td>Kenya</td>\n",
       "      <td>2018</td>\n",
       "      <td>uniqueid_2</td>\n",
       "      <td>0</td>\n",
       "      <td>Rural</td>\n",
       "      <td>No</td>\n",
       "      <td>5</td>\n",
       "      <td>70</td>\n",
       "      <td>Female</td>\n",
       "      <td>Head of Household</td>\n",
       "      <td>Widowed</td>\n",
       "      <td>No formal education</td>\n",
       "      <td>Government Dependent</td>\n",
       "    </tr>\n",
       "    <tr>\n",
       "      <th>2</th>\n",
       "      <td>Kenya</td>\n",
       "      <td>2018</td>\n",
       "      <td>uniqueid_3</td>\n",
       "      <td>1</td>\n",
       "      <td>Urban</td>\n",
       "      <td>Yes</td>\n",
       "      <td>5</td>\n",
       "      <td>26</td>\n",
       "      <td>Male</td>\n",
       "      <td>Other relative</td>\n",
       "      <td>Single/Never Married</td>\n",
       "      <td>Vocational/Specialised training</td>\n",
       "      <td>Self employed</td>\n",
       "    </tr>\n",
       "    <tr>\n",
       "      <th>3</th>\n",
       "      <td>Kenya</td>\n",
       "      <td>2018</td>\n",
       "      <td>uniqueid_4</td>\n",
       "      <td>0</td>\n",
       "      <td>Rural</td>\n",
       "      <td>Yes</td>\n",
       "      <td>5</td>\n",
       "      <td>34</td>\n",
       "      <td>Female</td>\n",
       "      <td>Head of Household</td>\n",
       "      <td>Married/Living together</td>\n",
       "      <td>Primary education</td>\n",
       "      <td>Formally employed Private</td>\n",
       "    </tr>\n",
       "    <tr>\n",
       "      <th>4</th>\n",
       "      <td>Kenya</td>\n",
       "      <td>2018</td>\n",
       "      <td>uniqueid_5</td>\n",
       "      <td>0</td>\n",
       "      <td>Urban</td>\n",
       "      <td>No</td>\n",
       "      <td>8</td>\n",
       "      <td>26</td>\n",
       "      <td>Male</td>\n",
       "      <td>Child</td>\n",
       "      <td>Single/Never Married</td>\n",
       "      <td>Primary education</td>\n",
       "      <td>Informally employed</td>\n",
       "    </tr>\n",
       "  </tbody>\n",
       "</table>\n",
       "</div>"
      ],
      "text/plain": [
       "  country  year    uniqueid  bank_account location_type cellphone_access  \\\n",
       "0   Kenya  2018  uniqueid_1             1         Rural              Yes   \n",
       "1   Kenya  2018  uniqueid_2             0         Rural               No   \n",
       "2   Kenya  2018  uniqueid_3             1         Urban              Yes   \n",
       "3   Kenya  2018  uniqueid_4             0         Rural              Yes   \n",
       "4   Kenya  2018  uniqueid_5             0         Urban               No   \n",
       "\n",
       "   household_size  age_of_respondent gender_of_respondent  \\\n",
       "0               3                 24               Female   \n",
       "1               5                 70               Female   \n",
       "2               5                 26                 Male   \n",
       "3               5                 34               Female   \n",
       "4               8                 26                 Male   \n",
       "\n",
       "  relationship_with_head           marital_status  \\\n",
       "0                 Spouse  Married/Living together   \n",
       "1      Head of Household                  Widowed   \n",
       "2         Other relative     Single/Never Married   \n",
       "3      Head of Household  Married/Living together   \n",
       "4                  Child     Single/Never Married   \n",
       "\n",
       "                   education_level                   job_type  \n",
       "0              Secondary education              Self employed  \n",
       "1              No formal education       Government Dependent  \n",
       "2  Vocational/Specialised training              Self employed  \n",
       "3                Primary education  Formally employed Private  \n",
       "4                Primary education        Informally employed  "
      ]
     },
     "execution_count": 9,
     "metadata": {},
     "output_type": "execute_result"
    }
   ],
   "source": [
    "train.head()"
   ]
  },
  {
   "cell_type": "markdown",
   "metadata": {
    "id": "Rk46ptAq5nLa"
   },
   "source": [
    "# Visualize Categorical values to establish patterns and insights"
   ]
  },
  {
   "cell_type": "code",
   "execution_count": 10,
   "metadata": {
    "colab": {
     "base_uri": "https://localhost:8080/",
     "height": 279
    },
    "id": "lWWPRbFW5nLa",
    "outputId": "c8072cd7-1601-4d50-c2b1-8c3cb0169519"
   },
   "outputs": [
    {
     "data": {
      "image/png": "[encoded data removed]",
      "text/plain": [
       "<Figure size 432x288 with 1 Axes>"
      ]
     },
     "metadata": {
      "needs_background": "light"
     },
     "output_type": "display_data"
    }
   ],
   "source": [
    "a = sns.barplot(x=\"year\",y=\"bank_account\",data=train)\n",
    "a = a.set_ylabel(\"bank_account\")"
   ]
  },
  {
   "cell_type": "markdown",
   "metadata": {
    "id": "5KYrnXw65nLa"
   },
   "source": [
    "It seems that the probability of having a bank account for an individual in year 2018 is high as compared to other years"
   ]
  },
  {
   "cell_type": "code",
   "execution_count": 11,
   "metadata": {
    "colab": {
     "base_uri": "https://localhost:8080/",
     "height": 280
    },
    "id": "I4KAJDfz5nLb",
    "outputId": "8d4dd97e-b9f0-418e-fdd2-77b52177cbf2"
   },
   "outputs": [
    {
     "data": {
      "image/png": "[encoded data removed]",
      "text/plain": [
       "<Figure size 432x288 with 1 Axes>"
      ]
     },
     "metadata": {
      "needs_background": "light"
     },
     "output_type": "display_data"
    }
   ],
   "source": [
    "b = sns.barplot(x=\"location_type\",y=\"bank_account\",data=train)\n",
    "b = b.set_ylabel(\"bank_account\")"
   ]
  },
  {
   "cell_type": "code",
   "execution_count": 12,
   "metadata": {
    "colab": {
     "base_uri": "https://localhost:8080/",
     "height": 280
    },
    "id": "zaXjmBsj5nLb",
    "outputId": "c9cb3aaa-15fc-40b7-8ecf-c5ae45db78c6"
   },
   "outputs": [
    {
     "data": {
      "image/png": "[encoded data removed]",
      "text/plain": [
       "<Figure size 432x288 with 1 Axes>"
      ]
     },
     "metadata": {
      "needs_background": "light"
     },
     "output_type": "display_data"
    }
   ],
   "source": [
    "c = sns.barplot(x=\"cellphone_access\",y=\"bank_account\",data=train)\n",
    "c = c.set_ylabel(\"bank_account\")"
   ]
  },
  {
   "cell_type": "code",
   "execution_count": 13,
   "metadata": {
    "colab": {
     "base_uri": "https://localhost:8080/",
     "height": 280
    },
    "id": "h_DQTd5I5nLb",
    "outputId": "adcde6c2-64fd-4c31-b94e-aee11e00cef4"
   },
   "outputs": [
    {
     "data": {
      "image/png": "[encoded data removed]",
      "text/plain": [
       "<Figure size 432x288 with 1 Axes>"
      ]
     },
     "metadata": {
      "needs_background": "light"
     },
     "output_type": "display_data"
    }
   ],
   "source": [
    "d = sns.barplot(x=\"gender_of_respondent\",y=\"bank_account\",data=train)\n",
    "d = d.set_ylabel(\"bank_account\")"
   ]
  },
  {
   "cell_type": "code",
   "execution_count": 14,
   "metadata": {
    "colab": {
     "base_uri": "https://localhost:8080/",
     "height": 280
    },
    "id": "fRKVvwnm5nLc",
    "outputId": "1e32d8dc-072b-4e70-b209-2da3504aeb4e"
   },
   "outputs": [
    {
     "data": {
      "image/png": "[encoded data removed]",
      "text/plain": [
       "<Figure size 432x288 with 1 Axes>"
      ]
     },
     "metadata": {
      "needs_background": "light"
     },
     "output_type": "display_data"
    }
   ],
   "source": [
    "d = sns.barplot(x=\"relationship_with_head\",y=\"bank_account\",data=train)\n",
    "d = d.set_ylabel(\"bank_account\")"
   ]
  },
  {
   "cell_type": "markdown",
   "metadata": {
    "id": "mraGqkIg5nLc"
   },
   "source": [
    "This indicates that the elderly are less likely to have a bank account.\n",
    "It is also clear that if a respondent is the Head of the house, it is more likely for them to have a bank account"
   ]
  },
  {
   "cell_type": "code",
   "execution_count": 15,
   "metadata": {
    "colab": {
     "base_uri": "https://localhost:8080/",
     "height": 498
    },
    "id": "NMorPlmQ5nLc",
    "outputId": "d31f0289-eea8-4c66-9e2b-6988cd2b79eb"
   },
   "outputs": [
    {
     "data": {
      "image/png": "[encoded data removed]",
      "text/plain": [
       "<Figure size 1152x576 with 1 Axes>"
      ]
     },
     "metadata": {
      "needs_background": "light"
     },
     "output_type": "display_data"
    }
   ],
   "source": [
    "plt.figure(figsize=(16,8))\n",
    "d = sns.barplot(x=\"marital_status\",y=\"bank_account\",data=train)\n",
    "d = d.set_ylabel(\"bank_account\")"
   ]
  },
  {
   "cell_type": "markdown",
   "metadata": {
    "id": "_KM7A3es5nLd"
   },
   "source": [
    "Married individuals and those who are not aware where they stand in their relationship are more likely to have a bank account.\n",
    "My assumption is individuals who are not aware of their marital status are most likely to be youths already working and trying to settle"
   ]
  },
  {
   "cell_type": "code",
   "execution_count": 16,
   "metadata": {
    "colab": {
     "base_uri": "https://localhost:8080/",
     "height": 498
    },
    "id": "XjE7fD_b5nLd",
    "outputId": "d871547c-dbfe-4a06-e26a-33c71745d29c"
   },
   "outputs": [
    {
     "data": {
      "image/png": "[encoded data removed]",
      "text/plain": [
       "<Figure size 1152x576 with 1 Axes>"
      ]
     },
     "metadata": {
      "needs_background": "light"
     },
     "output_type": "display_data"
    }
   ],
   "source": [
    "plt.figure(figsize=(16,8))\n",
    "d = sns.barplot(x=\"education_level\",y=\"bank_account\",data=train)\n",
    "d = d.set_ylabel(\"bank_account\")"
   ]
  },
  {
   "cell_type": "markdown",
   "metadata": {
    "id": "TuGW-dpO5nLd"
   },
   "source": [
    "Individuals in tertiary and vocational training are most likely to have a bank account"
   ]
  },
  {
   "cell_type": "code",
   "execution_count": 17,
   "metadata": {
    "colab": {
     "base_uri": "https://localhost:8080/",
     "height": 608
    },
    "id": "Sd8tiCj75nLd",
    "outputId": "dfb67db2-973d-4f24-91b8-195b00f0fd1f"
   },
   "outputs": [
    {
     "data": {
      "image/png": "[encoded data removed]",
      "text/plain": [
       "<Figure size 1152x576 with 1 Axes>"
      ]
     },
     "metadata": {
      "needs_background": "light"
     },
     "output_type": "display_data"
    }
   ],
   "source": [
    "plt.figure(figsize=(16,8))\n",
    "d = sns.barplot(x=\"job_type\",y=\"bank_account\",data=train)\n",
    "d.set_xticklabels(d.get_xticklabels(), rotation=45, horizontalalignment='right')\n",
    "d = d.set_ylabel(\"bank_account\")\n",
    "\n"
   ]
  },
  {
   "cell_type": "markdown",
   "metadata": {
    "id": "m0gKNxr_5nLe"
   },
   "source": [
    "Individuals sith formal employment are more likely to have a bank account.\n",
    "\n",
    "##### In summary we can say that an individual in formal employment, Who is the head of the house hold,with a vocation or tertially education, Married or about to get married(Dont Know-- likely in their prime youthful days),urban resident, with phone access, and surveyed in the year 2018 has 95 percent chance of having a bank account"
   ]
  },
  {
   "cell_type": "markdown",
   "metadata": {
    "id": "u0N57nnE5nLe"
   },
   "source": [
    "### Feature Engineering\n",
    "We concatenate the two datasets to achieve uniform feature conversions during thid exercise"
   ]
  },
  {
   "cell_type": "code",
   "execution_count": 18,
   "metadata": {
    "id": "BwR6OQAz5nLe"
   },
   "outputs": [],
   "source": [
    "train_len = len(train)\n",
    "train_test = pd.concat([train,test],axis=0).reset_index(drop=True)"
   ]
  },
  {
   "cell_type": "code",
   "execution_count": 19,
   "metadata": {
    "colab": {
     "base_uri": "https://localhost:8080/"
    },
    "id": "KIsadx785nLf",
    "outputId": "961e920c-1b60-4640-eef4-739f19b717ea"
   },
   "outputs": [
    {
     "name": "stdout",
     "output_type": "stream",
     "text": [
      "<class 'pandas.core.frame.DataFrame'>\n",
      "RangeIndex: 33610 entries, 0 to 33609\n",
      "Data columns (total 13 columns):\n",
      " #   Column                  Non-Null Count  Dtype  \n",
      "---  ------                  --------------  -----  \n",
      " 0   country                 33610 non-null  object \n",
      " 1   year                    33610 non-null  int64  \n",
      " 2   uniqueid                33610 non-null  object \n",
      " 3   bank_account            23524 non-null  float64\n",
      " 4   location_type           33610 non-null  object \n",
      " 5   cellphone_access        33610 non-null  object \n",
      " 6   household_size          33610 non-null  int64  \n",
      " 7   age_of_respondent       33610 non-null  int64  \n",
      " 8   gender_of_respondent    33610 non-null  object \n",
      " 9   relationship_with_head  33610 non-null  object \n",
      " 10  marital_status          33610 non-null  object \n",
      " 11  education_level         33610 non-null  object \n",
      " 12  job_type                33610 non-null  object \n",
      "dtypes: float64(1), int64(3), object(9)\n",
      "memory usage: 2.2+ MB\n"
     ]
    }
   ],
   "source": [
    "train_test.info()"
   ]
  },
  {
   "cell_type": "code",
   "execution_count": 20,
   "metadata": {
    "colab": {
     "base_uri": "https://localhost:8080/"
    },
    "id": "en8En9V-5nLf",
    "outputId": "48d209ce-c25a-4eeb-97d4-92775f3c9767"
   },
   "outputs": [
    {
     "name": "stdout",
     "output_type": "stream",
     "text": [
      "columns present are \n",
      " ['country', 'year', 'uniqueid', 'bank_account', 'location_type', 'cellphone_access', 'household_size', 'age_of_respondent', 'gender_of_respondent', 'relationship_with_head', 'marital_status', 'education_level', 'job_type'] \n",
      " No of columns is 13\n"
     ]
    },
    {
     "data": {
      "text/plain": [
       "country                   33610\n",
       "year                      33610\n",
       "uniqueid                  33610\n",
       "bank_account              23524\n",
       "location_type             33610\n",
       "cellphone_access          33610\n",
       "household_size            33610\n",
       "age_of_respondent         33610\n",
       "gender_of_respondent      33610\n",
       "relationship_with_head    33610\n",
       "marital_status            33610\n",
       "education_level           33610\n",
       "job_type                  33610\n",
       "dtype: int64"
      ]
     },
     "execution_count": 20,
     "metadata": {},
     "output_type": "execute_result"
    }
   ],
   "source": [
    "# Descriptive Analytics\n",
    "tot_len = len(train_test.columns.tolist())\n",
    "print('columns present are \\n {} \\n No of columns is {}'.format(train_test.columns.tolist(),tot_len))\n",
    "train_test.count() # total number of values per column"
   ]
  },
  {
   "cell_type": "code",
   "execution_count": 21,
   "metadata": {
    "colab": {
     "base_uri": "https://localhost:8080/"
    },
    "id": "ijqPNy9B5nLf",
    "outputId": "b31c95e0-4ce5-4a9f-917c-9861191b8182"
   },
   "outputs": [
    {
     "name": "stdout",
     "output_type": "stream",
     "text": [
      "No of numeric features is  4\n",
      "Number of non-numeric features are:  9\n"
     ]
    }
   ],
   "source": [
    "leng = len(train_test.describe().keys().tolist())\n",
    "print(\"No of numeric features is \", leng)\n",
    "print(\"Number of non-numeric features are: \", tot_len-leng)"
   ]
  },
  {
   "cell_type": "code",
   "execution_count": 22,
   "metadata": {
    "colab": {
     "base_uri": "https://localhost:8080/"
    },
    "id": "JtAnrxK25nLg",
    "outputId": "54a65841-f453-401a-e9fb-4212309bdc80"
   },
   "outputs": [
    {
     "name": "stdout",
     "output_type": "stream",
     "text": [
      "unique values in each column are: \n",
      " country                       4\n",
      "year                          3\n",
      "uniqueid                  12480\n",
      "bank_account                  2\n",
      "location_type                 2\n",
      "cellphone_access              2\n",
      "household_size               20\n",
      "age_of_respondent            85\n",
      "gender_of_respondent          2\n",
      "relationship_with_head        6\n",
      "marital_status                5\n",
      "education_level               6\n",
      "job_type                     10\n",
      "dtype: int64\n"
     ]
    }
   ],
   "source": [
    "# visualize unique values in all the categorical features\n",
    "n = train_test.nunique(axis=0)\n",
    "print(\"unique values in each column are: \\n\", n)"
   ]
  },
  {
   "cell_type": "markdown",
   "metadata": {
    "id": "aHGT5iNC5nLg"
   },
   "source": [
    "#### Categorical features that can be encoded are\n",
    "    * country\n",
    "    * year\n",
    "    * bank_account\n",
    "    * cellphone_access\n",
    "    * gender_of_respondent\n",
    "    * location_type"
   ]
  },
  {
   "cell_type": "code",
   "execution_count": 23,
   "metadata": {
    "id": "_A5GBfAt5nLg"
   },
   "outputs": [],
   "source": [
    "# Getting Dummies\n",
    "def getdummies(dataset,col,pref):\n",
    "    dataset = pd.get_dummies(dataset, columns = col, prefix=pref)\n",
    "    return dataset"
   ]
  },
  {
   "cell_type": "code",
   "execution_count": 24,
   "metadata": {
    "id": "DzV9iupYoIbQ"
   },
   "outputs": [],
   "source": [
    "from sklearn.preprocessing import LabelEncoder\n",
    "le = LabelEncoder()\n",
    "\n",
    "def col_trans(data,col):\n",
    "  data[col] = le.fit_transform(data[col])\n"
   ]
  },
  {
   "cell_type": "code",
   "execution_count": 25,
   "metadata": {
    "id": "Uoz84t1s5nLg"
   },
   "outputs": [],
   "source": [
    "#train_test = getdummies(train_test,[\"cellphone_access\",\"location_type\",\"gender_of_respondent\"],[\"ce\",\"l\",\"g\"])\n",
    "col_trans(train_test,\"cellphone_access\")\n",
    "col_trans(train_test,\"location_type\")"
   ]
  },
  {
   "cell_type": "code",
   "execution_count": 26,
   "metadata": {
    "id": "g-ghhIXqpogD"
   },
   "outputs": [],
   "source": [
    "col_trans(train_test,\"gender_of_respondent\")"
   ]
  },
  {
   "cell_type": "code",
   "execution_count": 27,
   "metadata": {
    "id": "SCw10oRXwA4W"
   },
   "outputs": [],
   "source": [
    "train_test = getdummies(train_test,[\"country\"],[\"co\"])"
   ]
  },
  {
   "cell_type": "code",
   "execution_count": 28,
   "metadata": {
    "colab": {
     "base_uri": "https://localhost:8080/",
     "height": 326
    },
    "id": "cFqvH__35nLh",
    "outputId": "b3045ab6-d84b-4ea5-9d86-b9b4aa08a65b"
   },
   "outputs": [
    {
     "data": {
      "text/html": [
       "<div>\n",
       "<style scoped>\n",
       "    .dataframe tbody tr th:only-of-type {\n",
       "        vertical-align: middle;\n",
       "    }\n",
       "\n",
       "    .dataframe tbody tr th {\n",
       "        vertical-align: top;\n",
       "    }\n",
       "\n",
       "    .dataframe thead th {\n",
       "        text-align: right;\n",
       "    }\n",
       "</style>\n",
       "<table border=\"1\" class=\"dataframe\">\n",
       "  <thead>\n",
       "    <tr style=\"text-align: right;\">\n",
       "      <th></th>\n",
       "      <th>year</th>\n",
       "      <th>uniqueid</th>\n",
       "      <th>bank_account</th>\n",
       "      <th>location_type</th>\n",
       "      <th>cellphone_access</th>\n",
       "      <th>household_size</th>\n",
       "      <th>age_of_respondent</th>\n",
       "      <th>gender_of_respondent</th>\n",
       "      <th>relationship_with_head</th>\n",
       "      <th>marital_status</th>\n",
       "      <th>education_level</th>\n",
       "      <th>job_type</th>\n",
       "      <th>co_Kenya</th>\n",
       "      <th>co_Rwanda</th>\n",
       "      <th>co_Tanzania</th>\n",
       "      <th>co_Uganda</th>\n",
       "    </tr>\n",
       "  </thead>\n",
       "  <tbody>\n",
       "    <tr>\n",
       "      <th>0</th>\n",
       "      <td>2018</td>\n",
       "      <td>uniqueid_1</td>\n",
       "      <td>1.0</td>\n",
       "      <td>0</td>\n",
       "      <td>1</td>\n",
       "      <td>3</td>\n",
       "      <td>24</td>\n",
       "      <td>0</td>\n",
       "      <td>Spouse</td>\n",
       "      <td>Married/Living together</td>\n",
       "      <td>Secondary education</td>\n",
       "      <td>Self employed</td>\n",
       "      <td>1</td>\n",
       "      <td>0</td>\n",
       "      <td>0</td>\n",
       "      <td>0</td>\n",
       "    </tr>\n",
       "    <tr>\n",
       "      <th>1</th>\n",
       "      <td>2018</td>\n",
       "      <td>uniqueid_2</td>\n",
       "      <td>0.0</td>\n",
       "      <td>0</td>\n",
       "      <td>0</td>\n",
       "      <td>5</td>\n",
       "      <td>70</td>\n",
       "      <td>0</td>\n",
       "      <td>Head of Household</td>\n",
       "      <td>Widowed</td>\n",
       "      <td>No formal education</td>\n",
       "      <td>Government Dependent</td>\n",
       "      <td>1</td>\n",
       "      <td>0</td>\n",
       "      <td>0</td>\n",
       "      <td>0</td>\n",
       "    </tr>\n",
       "    <tr>\n",
       "      <th>2</th>\n",
       "      <td>2018</td>\n",
       "      <td>uniqueid_3</td>\n",
       "      <td>1.0</td>\n",
       "      <td>1</td>\n",
       "      <td>1</td>\n",
       "      <td>5</td>\n",
       "      <td>26</td>\n",
       "      <td>1</td>\n",
       "      <td>Other relative</td>\n",
       "      <td>Single/Never Married</td>\n",
       "      <td>Vocational/Specialised training</td>\n",
       "      <td>Self employed</td>\n",
       "      <td>1</td>\n",
       "      <td>0</td>\n",
       "      <td>0</td>\n",
       "      <td>0</td>\n",
       "    </tr>\n",
       "    <tr>\n",
       "      <th>3</th>\n",
       "      <td>2018</td>\n",
       "      <td>uniqueid_4</td>\n",
       "      <td>0.0</td>\n",
       "      <td>0</td>\n",
       "      <td>1</td>\n",
       "      <td>5</td>\n",
       "      <td>34</td>\n",
       "      <td>0</td>\n",
       "      <td>Head of Household</td>\n",
       "      <td>Married/Living together</td>\n",
       "      <td>Primary education</td>\n",
       "      <td>Formally employed Private</td>\n",
       "      <td>1</td>\n",
       "      <td>0</td>\n",
       "      <td>0</td>\n",
       "      <td>0</td>\n",
       "    </tr>\n",
       "    <tr>\n",
       "      <th>4</th>\n",
       "      <td>2018</td>\n",
       "      <td>uniqueid_5</td>\n",
       "      <td>0.0</td>\n",
       "      <td>1</td>\n",
       "      <td>0</td>\n",
       "      <td>8</td>\n",
       "      <td>26</td>\n",
       "      <td>1</td>\n",
       "      <td>Child</td>\n",
       "      <td>Single/Never Married</td>\n",
       "      <td>Primary education</td>\n",
       "      <td>Informally employed</td>\n",
       "      <td>1</td>\n",
       "      <td>0</td>\n",
       "      <td>0</td>\n",
       "      <td>0</td>\n",
       "    </tr>\n",
       "  </tbody>\n",
       "</table>\n",
       "</div>"
      ],
      "text/plain": [
       "   year    uniqueid  bank_account  location_type  cellphone_access  \\\n",
       "0  2018  uniqueid_1           1.0              0                 1   \n",
       "1  2018  uniqueid_2           0.0              0                 0   \n",
       "2  2018  uniqueid_3           1.0              1                 1   \n",
       "3  2018  uniqueid_4           0.0              0                 1   \n",
       "4  2018  uniqueid_5           0.0              1                 0   \n",
       "\n",
       "   household_size  age_of_respondent  gender_of_respondent  \\\n",
       "0               3                 24                     0   \n",
       "1               5                 70                     0   \n",
       "2               5                 26                     1   \n",
       "3               5                 34                     0   \n",
       "4               8                 26                     1   \n",
       "\n",
       "  relationship_with_head           marital_status  \\\n",
       "0                 Spouse  Married/Living together   \n",
       "1      Head of Household                  Widowed   \n",
       "2         Other relative     Single/Never Married   \n",
       "3      Head of Household  Married/Living together   \n",
       "4                  Child     Single/Never Married   \n",
       "\n",
       "                   education_level                   job_type  co_Kenya  \\\n",
       "0              Secondary education              Self employed         1   \n",
       "1              No formal education       Government Dependent         1   \n",
       "2  Vocational/Specialised training              Self employed         1   \n",
       "3                Primary education  Formally employed Private         1   \n",
       "4                Primary education        Informally employed         1   \n",
       "\n",
       "   co_Rwanda  co_Tanzania  co_Uganda  \n",
       "0          0            0          0  \n",
       "1          0            0          0  \n",
       "2          0            0          0  \n",
       "3          0            0          0  \n",
       "4          0            0          0  "
      ]
     },
     "execution_count": 28,
     "metadata": {},
     "output_type": "execute_result"
    }
   ],
   "source": [
    "train_test.head()"
   ]
  },
  {
   "cell_type": "code",
   "execution_count": 29,
   "metadata": {
    "id": "OWvE5Xt35nLh"
   },
   "outputs": [],
   "source": [
    "# lets drop the uniqueid since its insignificant\n",
    "train_test.drop(columns=[\"uniqueid\"],inplace=True)"
   ]
  },
  {
   "cell_type": "code",
   "execution_count": 30,
   "metadata": {},
   "outputs": [],
   "source": [
    "#train_test.drop(columns=[\"year\"],inplace=True)"
   ]
  },
  {
   "cell_type": "code",
   "execution_count": 31,
   "metadata": {
    "id": "HLgyhdX75nLh"
   },
   "outputs": [],
   "source": [
    "def unique_vals(col):\n",
    "    return pd.unique(train_test[col])"
   ]
  },
  {
   "cell_type": "code",
   "execution_count": 32,
   "metadata": {
    "colab": {
     "base_uri": "https://localhost:8080/"
    },
    "id": "Pesl74-M5nLh",
    "outputId": "6329a2dd-6135-4a0d-9766-fd04e131c683"
   },
   "outputs": [
    {
     "name": "stdout",
     "output_type": "stream",
     "text": [
      "relationship with head unique vals ['Spouse' 'Head of Household' 'Other relative' 'Child' 'Parent'\n",
      " 'Other non-relatives']\n",
      "marital_status unique vals ['Married/Living together' 'Widowed' 'Single/Never Married'\n",
      " 'Divorced/Seperated' 'Dont know']\n",
      "education_level unique vals ['Secondary education' 'No formal education'\n",
      " 'Vocational/Specialised training' 'Primary education'\n",
      " 'Tertiary education' 'Other/Dont know/RTA']\n",
      "job_type unique vals ['Self employed' 'Government Dependent' 'Formally employed Private'\n",
      " 'Informally employed' 'Formally employed Government'\n",
      " 'Farming and Fishing' 'Remittance Dependent' 'Other Income'\n",
      " 'Dont Know/Refuse to answer' 'No Income']\n"
     ]
    }
   ],
   "source": [
    "# Unique columns in ralationship column\n",
    "print(\"relationship with head unique vals\",unique_vals(\"relationship_with_head\"))\n",
    "print(\"marital_status unique vals\",unique_vals(\"marital_status\"))\n",
    "print(\"education_level unique vals\",unique_vals(\"education_level\"))\n",
    "print(\"job_type unique vals\",unique_vals(\"job_type\"))"
   ]
  },
  {
   "cell_type": "code",
   "execution_count": 33,
   "metadata": {
    "id": "qmDr6VQ_5nLi"
   },
   "outputs": [],
   "source": [
    "# Transforming the relationship column\n",
    "def col_transform(dataset,col,vals,reps): \n",
    "        dataset[col].replace(vals,reps,inplace = True)"
   ]
  },
  {
   "cell_type": "code",
   "execution_count": 34,
   "metadata": {
    "id": "wg9-1xPW5nLi"
   },
   "outputs": [],
   "source": [
    "col_transform(train_test,'relationship_with_head',['Spouse','Head of Household','Other relative','Child','Parent','Other non-relatives'],['S','H','O_R','C','P','N_R'])\n",
    "# Transform marital_status column\n",
    "col_transform(train_test,'marital_status',['Married/Living together','Widowed','Single/Never Married','Divorced/Seperated','Dont know'],['M','W','S','D','DN'])\n",
    "# Transform education_level column\n",
    "col_transform(train_test,'education_level',['Secondary education','No formal education','Vocational/Specialised training','Primary education','Tertiary education','Other/Dont know/RTA'],['S','N','V','P','T','ODR'])\n",
    "# Transform job_type column\n",
    "col_transform(train_test,'job_type',['Self employed', 'Government Dependent',\n",
    "       'Formally employed Private', 'Informally employed',\n",
    "       'Formally employed Government', 'Farming and Fishing',\n",
    "       'Remittance Dependent', 'Other Income',\n",
    "       'Dont Know/Refuse to answer', 'No Income'],['SE','GD','FEP','IE','FEG','FF','RD','OI','DK','NI'])\n"
   ]
  },
  {
   "cell_type": "code",
   "execution_count": 35,
   "metadata": {
    "id": "dgbMd9fj5nLi"
   },
   "outputs": [],
   "source": [
    "# Get dummies of the remaining categorical features\n",
    "train_test = getdummies(train_test,[\"relationship_with_head\",\"marital_status\",\"education_level\",\"job_type\"],[\"r\",\"m\",\"e\",\"j\"])"
   ]
  },
  {
   "cell_type": "code",
   "execution_count": 36,
   "metadata": {
    "colab": {
     "base_uri": "https://localhost:8080/",
     "height": 224
    },
    "id": "1bplQ2By5nLj",
    "outputId": "c3d1435b-0d71-4504-ed2c-49ed78de5dfa"
   },
   "outputs": [
    {
     "data": {
      "text/html": [
       "<div>\n",
       "<style scoped>\n",
       "    .dataframe tbody tr th:only-of-type {\n",
       "        vertical-align: middle;\n",
       "    }\n",
       "\n",
       "    .dataframe tbody tr th {\n",
       "        vertical-align: top;\n",
       "    }\n",
       "\n",
       "    .dataframe thead th {\n",
       "        text-align: right;\n",
       "    }\n",
       "</style>\n",
       "<table border=\"1\" class=\"dataframe\">\n",
       "  <thead>\n",
       "    <tr style=\"text-align: right;\">\n",
       "      <th></th>\n",
       "      <th>year</th>\n",
       "      <th>bank_account</th>\n",
       "      <th>location_type</th>\n",
       "      <th>cellphone_access</th>\n",
       "      <th>household_size</th>\n",
       "      <th>age_of_respondent</th>\n",
       "      <th>gender_of_respondent</th>\n",
       "      <th>co_Kenya</th>\n",
       "      <th>co_Rwanda</th>\n",
       "      <th>co_Tanzania</th>\n",
       "      <th>...</th>\n",
       "      <th>j_DK</th>\n",
       "      <th>j_FEG</th>\n",
       "      <th>j_FEP</th>\n",
       "      <th>j_FF</th>\n",
       "      <th>j_GD</th>\n",
       "      <th>j_IE</th>\n",
       "      <th>j_NI</th>\n",
       "      <th>j_OI</th>\n",
       "      <th>j_RD</th>\n",
       "      <th>j_SE</th>\n",
       "    </tr>\n",
       "  </thead>\n",
       "  <tbody>\n",
       "    <tr>\n",
       "      <th>0</th>\n",
       "      <td>2018</td>\n",
       "      <td>1.0</td>\n",
       "      <td>0</td>\n",
       "      <td>1</td>\n",
       "      <td>3</td>\n",
       "      <td>24</td>\n",
       "      <td>0</td>\n",
       "      <td>1</td>\n",
       "      <td>0</td>\n",
       "      <td>0</td>\n",
       "      <td>...</td>\n",
       "      <td>0</td>\n",
       "      <td>0</td>\n",
       "      <td>0</td>\n",
       "      <td>0</td>\n",
       "      <td>0</td>\n",
       "      <td>0</td>\n",
       "      <td>0</td>\n",
       "      <td>0</td>\n",
       "      <td>0</td>\n",
       "      <td>1</td>\n",
       "    </tr>\n",
       "    <tr>\n",
       "      <th>1</th>\n",
       "      <td>2018</td>\n",
       "      <td>0.0</td>\n",
       "      <td>0</td>\n",
       "      <td>0</td>\n",
       "      <td>5</td>\n",
       "      <td>70</td>\n",
       "      <td>0</td>\n",
       "      <td>1</td>\n",
       "      <td>0</td>\n",
       "      <td>0</td>\n",
       "      <td>...</td>\n",
       "      <td>0</td>\n",
       "      <td>0</td>\n",
       "      <td>0</td>\n",
       "      <td>0</td>\n",
       "      <td>1</td>\n",
       "      <td>0</td>\n",
       "      <td>0</td>\n",
       "      <td>0</td>\n",
       "      <td>0</td>\n",
       "      <td>0</td>\n",
       "    </tr>\n",
       "    <tr>\n",
       "      <th>2</th>\n",
       "      <td>2018</td>\n",
       "      <td>1.0</td>\n",
       "      <td>1</td>\n",
       "      <td>1</td>\n",
       "      <td>5</td>\n",
       "      <td>26</td>\n",
       "      <td>1</td>\n",
       "      <td>1</td>\n",
       "      <td>0</td>\n",
       "      <td>0</td>\n",
       "      <td>...</td>\n",
       "      <td>0</td>\n",
       "      <td>0</td>\n",
       "      <td>0</td>\n",
       "      <td>0</td>\n",
       "      <td>0</td>\n",
       "      <td>0</td>\n",
       "      <td>0</td>\n",
       "      <td>0</td>\n",
       "      <td>0</td>\n",
       "      <td>1</td>\n",
       "    </tr>\n",
       "    <tr>\n",
       "      <th>3</th>\n",
       "      <td>2018</td>\n",
       "      <td>0.0</td>\n",
       "      <td>0</td>\n",
       "      <td>1</td>\n",
       "      <td>5</td>\n",
       "      <td>34</td>\n",
       "      <td>0</td>\n",
       "      <td>1</td>\n",
       "      <td>0</td>\n",
       "      <td>0</td>\n",
       "      <td>...</td>\n",
       "      <td>0</td>\n",
       "      <td>0</td>\n",
       "      <td>1</td>\n",
       "      <td>0</td>\n",
       "      <td>0</td>\n",
       "      <td>0</td>\n",
       "      <td>0</td>\n",
       "      <td>0</td>\n",
       "      <td>0</td>\n",
       "      <td>0</td>\n",
       "    </tr>\n",
       "    <tr>\n",
       "      <th>4</th>\n",
       "      <td>2018</td>\n",
       "      <td>0.0</td>\n",
       "      <td>1</td>\n",
       "      <td>0</td>\n",
       "      <td>8</td>\n",
       "      <td>26</td>\n",
       "      <td>1</td>\n",
       "      <td>1</td>\n",
       "      <td>0</td>\n",
       "      <td>0</td>\n",
       "      <td>...</td>\n",
       "      <td>0</td>\n",
       "      <td>0</td>\n",
       "      <td>0</td>\n",
       "      <td>0</td>\n",
       "      <td>0</td>\n",
       "      <td>1</td>\n",
       "      <td>0</td>\n",
       "      <td>0</td>\n",
       "      <td>0</td>\n",
       "      <td>0</td>\n",
       "    </tr>\n",
       "  </tbody>\n",
       "</table>\n",
       "<p>5 rows × 38 columns</p>\n",
       "</div>"
      ],
      "text/plain": [
       "   year  bank_account  location_type  cellphone_access  household_size  \\\n",
       "0  2018           1.0              0                 1               3   \n",
       "1  2018           0.0              0                 0               5   \n",
       "2  2018           1.0              1                 1               5   \n",
       "3  2018           0.0              0                 1               5   \n",
       "4  2018           0.0              1                 0               8   \n",
       "\n",
       "   age_of_respondent  gender_of_respondent  co_Kenya  co_Rwanda  co_Tanzania  \\\n",
       "0                 24                     0         1          0            0   \n",
       "1                 70                     0         1          0            0   \n",
       "2                 26                     1         1          0            0   \n",
       "3                 34                     0         1          0            0   \n",
       "4                 26                     1         1          0            0   \n",
       "\n",
       "   ...  j_DK  j_FEG  j_FEP  j_FF  j_GD  j_IE  j_NI  j_OI  j_RD  j_SE  \n",
       "0  ...     0      0      0     0     0     0     0     0     0     1  \n",
       "1  ...     0      0      0     0     1     0     0     0     0     0  \n",
       "2  ...     0      0      0     0     0     0     0     0     0     1  \n",
       "3  ...     0      0      1     0     0     0     0     0     0     0  \n",
       "4  ...     0      0      0     0     0     1     0     0     0     0  \n",
       "\n",
       "[5 rows x 38 columns]"
      ]
     },
     "execution_count": 36,
     "metadata": {},
     "output_type": "execute_result"
    }
   ],
   "source": [
    "train_test.head()"
   ]
  },
  {
   "cell_type": "markdown",
   "metadata": {
    "id": "zpRreAoJ5nLk"
   },
   "source": [
    "## Modelling\n",
    "#### Models to test\n",
    "    SVC\n",
    "    Decision Tree\n",
    "    AdaBoost\n",
    "    Random Forest\n",
    "    KNN\n",
    "    Logistic regression\n",
    "#### Other Models That can be used\n",
    "    Extra Trees\n",
    "    Gradient Boosting\n",
    "    Multiple layer perceprton (neural network)\n",
    "    Linear Discriminant Analysis"
   ]
  },
  {
   "cell_type": "code",
   "execution_count": 37,
   "metadata": {
    "colab": {
     "base_uri": "https://localhost:8080/"
    },
    "id": "_0jZ3l9HsNOA",
    "outputId": "6f18b68b-9a81-4136-bc30-2cc9a7ea24bd"
   },
   "outputs": [
    {
     "name": "stdout",
     "output_type": "stream",
     "text": [
      "<class 'pandas.core.frame.DataFrame'>\n",
      "RangeIndex: 33610 entries, 0 to 33609\n",
      "Data columns (total 38 columns):\n",
      " #   Column                Non-Null Count  Dtype  \n",
      "---  ------                --------------  -----  \n",
      " 0   year                  33610 non-null  int64  \n",
      " 1   bank_account          23524 non-null  float64\n",
      " 2   location_type         33610 non-null  int32  \n",
      " 3   cellphone_access      33610 non-null  int32  \n",
      " 4   household_size        33610 non-null  int64  \n",
      " 5   age_of_respondent     33610 non-null  int64  \n",
      " 6   gender_of_respondent  33610 non-null  int32  \n",
      " 7   co_Kenya              33610 non-null  uint8  \n",
      " 8   co_Rwanda             33610 non-null  uint8  \n",
      " 9   co_Tanzania           33610 non-null  uint8  \n",
      " 10  co_Uganda             33610 non-null  uint8  \n",
      " 11  r_C                   33610 non-null  uint8  \n",
      " 12  r_H                   33610 non-null  uint8  \n",
      " 13  r_N_R                 33610 non-null  uint8  \n",
      " 14  r_O_R                 33610 non-null  uint8  \n",
      " 15  r_P                   33610 non-null  uint8  \n",
      " 16  r_S                   33610 non-null  uint8  \n",
      " 17  m_D                   33610 non-null  uint8  \n",
      " 18  m_DN                  33610 non-null  uint8  \n",
      " 19  m_M                   33610 non-null  uint8  \n",
      " 20  m_S                   33610 non-null  uint8  \n",
      " 21  m_W                   33610 non-null  uint8  \n",
      " 22  e_N                   33610 non-null  uint8  \n",
      " 23  e_ODR                 33610 non-null  uint8  \n",
      " 24  e_P                   33610 non-null  uint8  \n",
      " 25  e_S                   33610 non-null  uint8  \n",
      " 26  e_T                   33610 non-null  uint8  \n",
      " 27  e_V                   33610 non-null  uint8  \n",
      " 28  j_DK                  33610 non-null  uint8  \n",
      " 29  j_FEG                 33610 non-null  uint8  \n",
      " 30  j_FEP                 33610 non-null  uint8  \n",
      " 31  j_FF                  33610 non-null  uint8  \n",
      " 32  j_GD                  33610 non-null  uint8  \n",
      " 33  j_IE                  33610 non-null  uint8  \n",
      " 34  j_NI                  33610 non-null  uint8  \n",
      " 35  j_OI                  33610 non-null  uint8  \n",
      " 36  j_RD                  33610 non-null  uint8  \n",
      " 37  j_SE                  33610 non-null  uint8  \n",
      "dtypes: float64(1), int32(3), int64(3), uint8(31)\n",
      "memory usage: 2.4 MB\n"
     ]
    }
   ],
   "source": [
    "train_test.info()"
   ]
  },
  {
   "cell_type": "code",
   "execution_count": 38,
   "metadata": {
    "colab": {
     "base_uri": "https://localhost:8080/"
    },
    "id": "CoXiMQhd5nLk",
    "outputId": "0a307fe6-2d8d-499b-d0b1-cae2a0f4dac9"
   },
   "outputs": [
    {
     "name": "stderr",
     "output_type": "stream",
     "text": [
      "c:\\users\\boniface\\appdata\\local\\programs\\python\\python38-32\\lib\\site-packages\\pandas\\core\\frame.py:4160: SettingWithCopyWarning: \n",
      "A value is trying to be set on a copy of a slice from a DataFrame\n",
      "\n",
      "See the caveats in the documentation: https://pandas.pydata.org/pandas-docs/stable/user_guide/indexing.html#returning-a-view-versus-a-copy\n",
      "  return super().drop(\n"
     ]
    }
   ],
   "source": [
    "# obtain back our train and test datasets\n",
    "train = train_test[:train_len]\n",
    "testf = train_test[train_len:]\n",
    "testf.drop(labels=[\"bank_account\"],axis = 1,inplace=True)"
   ]
  },
  {
   "cell_type": "code",
   "execution_count": 39,
   "metadata": {
    "id": "2urGHRfl5nLk"
   },
   "outputs": [],
   "source": [
    "## Separate train features and label \n",
    "\n",
    "#train[\"bank_account\"] = train[\"bank_account\"].astype(int)\n",
    "\n",
    "Y_train = train[\"bank_account\"]\n",
    "\n",
    "X_train = train.drop(labels = [\"bank_account\"],axis = 1)"
   ]
  },
  {
   "cell_type": "code",
   "execution_count": 40,
   "metadata": {
    "id": "ytVIwcQ85nLk"
   },
   "outputs": [],
   "source": [
    "from sklearn.model_selection import GridSearchCV, cross_val_score, StratifiedKFold,train_test_split\n",
    "from sklearn.metrics import confusion_matrix,accuracy_score #precision_score, recall_score,f1_score,\n",
    "from xgboost import XGBClassifier\n",
    "from sklearn.svm import SVC\n",
    "from sklearn.ensemble import RandomForestClassifier\n",
    "from sklearn.linear_model import LogisticRegression\n",
    "from sklearn.ensemble import VotingClassifier,GradientBoostingClassifier\n",
    "\n",
    "sns.set(style='white', context='notebook', palette='deep')"
   ]
  },
  {
   "cell_type": "markdown",
   "metadata": {
    "id": "9cAjRWPm5nLl"
   },
   "source": [
    "## Evaluating our model with\n",
    "    * Without Dimension Reduction\n"
   ]
  },
  {
   "cell_type": "markdown",
   "metadata": {
    "id": "t61iNvqL5nLl"
   },
   "source": [
    "### Lets try and Rescale our data to see its effecton overall perfomance"
   ]
  },
  {
   "cell_type": "code",
   "execution_count": 41,
   "metadata": {
    "id": "VBzRZFwM5nLl"
   },
   "outputs": [],
   "source": [
    "# minimal error before this action is 0.113..Random Forest\n",
    "from sklearn.preprocessing import MinMaxScaler  \n",
    "scaler = MinMaxScaler(feature_range=(0, 1))  \n",
    "\n",
    "X_train_rescaled = scaler.fit_transform(X_train)\n",
    "testf_rescaled = scaler.fit_transform(testf)"
   ]
  },
  {
   "cell_type": "code",
   "execution_count": 42,
   "metadata": {
    "id": "MITIJWJI5nLm"
   },
   "outputs": [],
   "source": [
    "xtrain, xtest, ytrain, ytest = train_test_split(X_train_rescaled, Y_train, train_size=0.85,test_size=0.15, random_state=42)"
   ]
  },
  {
   "cell_type": "markdown",
   "metadata": {
    "id": "6gmnZ8c65nLm"
   },
   "source": [
    "#### We evaluate model perfomance using gridsearchcv to optimize our XGBClassifier\n",
    "    * Finding the best hyper parameters"
   ]
  },
  {
   "cell_type": "code",
   "execution_count": 43,
   "metadata": {
    "colab": {
     "base_uri": "https://localhost:8080/"
    },
    "id": "YkLSKKEPz3he",
    "outputId": "db44fa13-4af7-40de-d45f-4da5381abbab"
   },
   "outputs": [],
   "source": [
    "#gsGBC.best_params_\n",
    "#{'learning_rate': 0.05,'loss': 'deviance', 'max_depth': 8, 'max_features': 0.1, 'min_samples_leaf': 150, 'n_estimators': 300}"
   ]
  },
  {
   "cell_type": "code",
   "execution_count": 44,
   "metadata": {},
   "outputs": [
    {
     "name": "stdout",
     "output_type": "stream",
     "text": [
      "Optimal Model based on misclassification error Is:  SVC(probability=True)\n",
      "Minimal Error of our optimal model is: 0.11162793896948475\n"
     ]
    }
   ],
   "source": [
    "# Modelling using model ensembles\n",
    "kfold = StratifiedKFold(n_splits=10)\n",
    "\n",
    "classifier_names = [\"SVC\",\"RandomForest\",\"LogisticReg\",\"GBCdefault\",\"GBCselect\",\"XGBCselect\",\"XGBCgit\"]\n",
    "classifiers = []\n",
    "classifiers.append(SVC(probability = True))\n",
    "classifiers.append(RandomForestClassifier())\n",
    "classifiers.append(LogisticRegression())\n",
    "classifiers.append(GradientBoostingClassifier())\n",
    "classifiers.append(GradientBoostingClassifier(learning_rate = 0.05,loss='deviance',max_depth = 8,max_features = 0.1,min_samples_leaf = 150,n_estimators = 300))\n",
    "classifiers.append(XGBClassifier(min_child_weight = 5, subsample = 1.0, colsample_bytree = 1.0, max_depth = 5,gamma=1))\n",
    "classifiers.append(XGBClassifier(min_child_weight = 5, gamma = 0.5, subsample = 0.6, colsample_bytree = 0.6, max_depth = 5))\n",
    "\n",
    "\n",
    "\n",
    "cv_results = []\n",
    "for classifier in classifiers :\n",
    "    cv_results.append(cross_val_score(classifier, xtrain, y = ytrain, scoring = \"accuracy\", cv = kfold, n_jobs=-1))\n",
    "\n",
    "cv_means = []\n",
    "cv_std = []\n",
    "for cv_result in cv_results:\n",
    "    cv_means.append(cv_result.mean())\n",
    "    cv_std.append(cv_result.std())\n",
    "\n",
    "#misclassification error\n",
    "MSE = [1-x for x in cv_means]\n",
    "#optimal Model\n",
    "optimal_model_index = MSE.index(min(MSE))\n",
    "optimal_model = classifiers[optimal_model_index]\n",
    "print(\"Optimal Model based on misclassification error Is: \",optimal_model)\n",
    "print(\"Minimal Error of our optimal model is:\",min(MSE))"
   ]
  },
  {
   "cell_type": "code",
   "execution_count": null,
   "metadata": {},
   "outputs": [],
   "source": [
    "for i in range(len(classifiers)):\n",
    "    print(\"Model: {} , Misclassification Error: {} , Standard Deviation: {} \".format(classifier_names[i],MSE[i],cv_std[i]))"
   ]
  },
  {
   "cell_type": "code",
   "execution_count": null,
   "metadata": {
    "id": "bN6ms-DVdsbe"
   },
   "outputs": [],
   "source": [
    "#grid_search.best_params_\n",
    "# min_child_weight = 5, subsample = 1.0, colsample_bytree = 1.0, max_depth = 5,gamma=1\n"
   ]
  },
  {
   "cell_type": "code",
   "execution_count": 47,
   "metadata": {
    "colab": {
     "base_uri": "https://localhost:8080/"
    },
    "id": "06KKXPqfINcR",
    "outputId": "a3cc8547-3b2d-4621-b989-3e9d8668164c"
   },
   "outputs": [
    {
     "name": "stdout",
     "output_type": "stream",
     "text": [
      "Error rate of  SVC is :  0.11022952677812414\n",
      "Error rate of  RandomForest is :  0.13658260130348543\n"
     ]
    },
    {
     "name": "stderr",
     "output_type": "stream",
     "text": [
      "c:\\users\\boniface\\appdata\\local\\programs\\python\\python38-32\\lib\\site-packages\\sklearn\\linear_model\\_logistic.py:762: ConvergenceWarning: lbfgs failed to converge (status=1):\n",
      "STOP: TOTAL NO. of ITERATIONS REACHED LIMIT.\n",
      "\n",
      "Increase the number of iterations (max_iter) or scale the data as shown in:\n",
      "    https://scikit-learn.org/stable/modules/preprocessing.html\n",
      "Please also refer to the documentation for alternative solver options:\n",
      "    https://scikit-learn.org/stable/modules/linear_model.html#logistic-regression\n",
      "  n_iter_i = _check_optimize_result(\n"
     ]
    },
    {
     "name": "stdout",
     "output_type": "stream",
     "text": [
      "Error rate of  LogisticReg is :  0.11731368659676966\n",
      "Error rate of  GBCdefault is :  0.11079625956361572\n",
      "Error rate of  GBCselect is :  0.10881269481439504\n",
      "Error rate of  XGBCselect is :  0.11391328988381977\n",
      "Error rate of  XGBCgit is :  0.11107962595636156\n"
     ]
    }
   ],
   "source": [
    "classif = 0\n",
    "for classifier in classifiers:\n",
    "    classifier.fit(xtrain,ytrain)\n",
    "    y_pred = classifier.predict(xtest)\n",
    "\n",
    "    # Get error rate\n",
    "    print(\"Error rate of \",classifier_names[classif],\"is : \", 1 - accuracy_score(ytest, y_pred))\n",
    "\n",
    "    # Get confusion matrix\n",
    "    #confusion_matrix(y_pred, ytest)\n",
    "    classif += 1"
   ]
  },
  {
   "cell_type": "code",
   "execution_count": 48,
   "metadata": {
    "id": "161fJDp1LbsR"
   },
   "outputs": [],
   "source": [
    "votingC = VotingClassifier(estimators=[('GBCselect', classifiers[4]), ('GBCdefault',classifiers[3]),('SVC',classifiers[0]),('XGBCselect',classifiers[5]),('LogisticReg',classifiers[2])], voting='soft', n_jobs=-1)\n",
    "\n",
    "votingC = votingC.fit(xtrain, ytrain)"
   ]
  },
  {
   "cell_type": "markdown",
   "metadata": {
    "id": "-jPrJv2p5nLo"
   },
   "source": [
    "## Summary"
   ]
  },
  {
   "cell_type": "code",
   "execution_count": 49,
   "metadata": {
    "colab": {
     "base_uri": "https://localhost:8080/",
     "height": 204
    },
    "id": "AytHmDQi5nLo",
    "outputId": "2f6eb252-a023-411e-8647-7102e9cb9971"
   },
   "outputs": [
    {
     "data": {
      "text/html": [
       "<div>\n",
       "<style scoped>\n",
       "    .dataframe tbody tr th:only-of-type {\n",
       "        vertical-align: middle;\n",
       "    }\n",
       "\n",
       "    .dataframe tbody tr th {\n",
       "        vertical-align: top;\n",
       "    }\n",
       "\n",
       "    .dataframe thead th {\n",
       "        text-align: right;\n",
       "    }\n",
       "</style>\n",
       "<table border=\"1\" class=\"dataframe\">\n",
       "  <thead>\n",
       "    <tr style=\"text-align: right;\">\n",
       "      <th></th>\n",
       "      <th>uniqueid</th>\n",
       "      <th>bank_account</th>\n",
       "    </tr>\n",
       "  </thead>\n",
       "  <tbody>\n",
       "    <tr>\n",
       "      <th>0</th>\n",
       "      <td>uniqueid_7867 x Kenya</td>\n",
       "      <td>1.0</td>\n",
       "    </tr>\n",
       "    <tr>\n",
       "      <th>1</th>\n",
       "      <td>uniqueid_6722 x Kenya</td>\n",
       "      <td>0.0</td>\n",
       "    </tr>\n",
       "    <tr>\n",
       "      <th>2</th>\n",
       "      <td>uniqueid_6714 x Kenya</td>\n",
       "      <td>1.0</td>\n",
       "    </tr>\n",
       "    <tr>\n",
       "      <th>3</th>\n",
       "      <td>uniqueid_8103 x Kenya</td>\n",
       "      <td>1.0</td>\n",
       "    </tr>\n",
       "    <tr>\n",
       "      <th>4</th>\n",
       "      <td>uniqueid_8657 x Kenya</td>\n",
       "      <td>1.0</td>\n",
       "    </tr>\n",
       "  </tbody>\n",
       "</table>\n",
       "</div>"
      ],
      "text/plain": [
       "                uniqueid  bank_account\n",
       "0  uniqueid_7867 x Kenya           1.0\n",
       "1  uniqueid_6722 x Kenya           0.0\n",
       "2  uniqueid_6714 x Kenya           1.0\n",
       "3  uniqueid_8103 x Kenya           1.0\n",
       "4  uniqueid_8657 x Kenya           1.0"
      ]
     },
     "execution_count": 49,
     "metadata": {},
     "output_type": "execute_result"
    }
   ],
   "source": [
    "Submission.head()"
   ]
  },
  {
   "cell_type": "code",
   "execution_count": 50,
   "metadata": {
    "colab": {
     "base_uri": "https://localhost:8080/"
    },
    "id": "VpzBvMB7fHgg",
    "outputId": "daf88301-868c-4ce1-be8a-414db3f989cd"
   },
   "outputs": [
    {
     "data": {
      "text/plain": [
       "(10086, 12)"
      ]
     },
     "execution_count": 50,
     "metadata": {},
     "output_type": "execute_result"
    }
   ],
   "source": [
    "test.shape"
   ]
  },
  {
   "cell_type": "code",
   "execution_count": 51,
   "metadata": {
    "id": "uraSIe7h5nLp"
   },
   "outputs": [],
   "source": [
    "final_results = list(map(float,votingC.predict(testf_rescaled)))\n",
    "Submission['Bank_account'] = final_results\n",
    "Submission['uniqueid'] = test['uniqueid'].astype(str) + ' x ' +  test['country'].astype(str)\n",
    "Submission = Submission[['uniqueid','Bank_account']]"
   ]
  },
  {
   "cell_type": "code",
   "execution_count": 52,
   "metadata": {
    "colab": {
     "base_uri": "https://localhost:8080/"
    },
    "id": "bYVEKSaL5nLp",
    "outputId": "4b6d6669-b691-47ef-d01b-601dfcd07cc3"
   },
   "outputs": [
    {
     "data": {
      "text/plain": [
       "0.0    9455\n",
       "1.0     631\n",
       "Name: Bank_account, dtype: int64"
      ]
     },
     "execution_count": 52,
     "metadata": {},
     "output_type": "execute_result"
    }
   ],
   "source": [
    "Submission.Bank_account.value_counts()"
   ]
  },
  {
   "cell_type": "code",
   "execution_count": 53,
   "metadata": {
    "id": "QfwAI-wb5nLp"
   },
   "outputs": [],
   "source": [
    "Submission.to_csv('beast.csv', index=False)"
   ]
  },
  {
   "cell_type": "markdown",
   "metadata": {
    "id": "7m_lVb5x5nLp"
   },
   "source": [
    "### TODO\n",
    "### Remodel with dimensionality reduction --done\n",
    "#### Remodel with additional feature addition\n",
    "#### Remodel with optimal k value for the knn classifier -- done\n",
    "## Remodel with minmaxscaling --done\n",
    "## remodel with country and year dropped - done\n",
    "### Use the XGBoost model\n",
    "### model with optimised svc hyperparameters\n"
   ]
  },
  {
   "cell_type": "markdown",
   "metadata": {
    "id": "c6MIDngM5nLq"
   },
   "source": [
    "# Findings1\n",
    "* When our data is rescalled, the svc perfoms better than The LogisticRegression resulting to minimal misclassification error.\n",
    "* Model perfomance 1. SVC 2. Logisticegression 3. KNN\n",
    "* It is clear that svc perfomes better with data of uniform size."
   ]
  },
  {
   "cell_type": "markdown",
   "metadata": {
    "id": "dU4W-iNk5nLq"
   },
   "source": [
    "### Findings 2\n",
    "accuracy before dimensionality reduction - 0.11262262916939181   \n",
    "accuracy after dimension reduction - 0.11556572923479413\n",
    "Logistic regression perfoms better than SVC\n",
    "\n",
    "Dimensionality reduction desnt improve model perfomance in this case"
   ]
  },
  {
   "cell_type": "markdown",
   "metadata": {
    "id": "ApuP2hLf5nLq"
   },
   "source": [
    "## Findings 3- optimal k value.21\n",
    "best error - 0.11262262916939181   \n",
    "error after test - 0.11576193590582073\n",
    "perfomance best than the previous KNN without optimised k value but still dont beat the svc"
   ]
  },
  {
   "cell_type": "markdown",
   "metadata": {
    "id": "jZ-qKpVy5nLq"
   },
   "source": [
    "## Findings 4 - optimised SVC\n",
    "svc error before optimisation - 0.11262262916939181 \n",
    "error after grid search optimisation -0.10991012873451544  \n",
    "time of grid search optimisation - recommend running this in colab\n",
    "## Grid searchCv optimises the SVC model and doesnt result to better perfomance..no idea why..sth must have been wrongly implemented"
   ]
  },
  {
   "cell_type": "markdown",
   "metadata": {
    "id": "zhkbxVK3bqqv"
   },
   "source": [
    "## xGboost perfomance looks promising..\n",
    "\n",
    "### 0.107 and 0.109 is the difference in perfomance of first submission and my submission.\n",
    "\n",
    "# TODO- clean notebook and find a way to improve it.\n",
    "## Drop columns country and year -X\n",
    "    * find best learning rate...0.3\n",
    "    * Tweak the parameters further and understand the model better,..push it to the edge.\n",
    "GOal - beat 0.10954578576633467  \n"
   ]
  },
  {
   "cell_type": "code",
   "execution_count": null,
   "metadata": {
    "id": "2cJ6oUheiORA"
   },
   "outputs": [],
   "source": [
    "#0.0    9396\n",
    "#1.0     690\n",
    "# v13 - 0.108665476898671\n"
   ]
  },
  {
   "cell_type": "code",
   "execution_count": null,
   "metadata": {
    "id": "giUkUox2uIjR"
   },
   "outputs": [],
   "source": [
    "#v14 - 0.109656950228039\n",
    "\n",
    "#0.0    9406\n",
    "#1.0     680"
   ]
  },
  {
   "cell_type": "code",
   "execution_count": null,
   "metadata": {
    "id": "w_w02YxMxm8Y"
   },
   "outputs": [],
   "source": [
    "#0.0    9400\n",
    "#1.0     686\n",
    "# v15 - 0.1114416022209"
   ]
  },
  {
   "cell_type": "code",
   "execution_count": null,
   "metadata": {
    "id": "SM3MNFbDzg-r"
   },
   "outputs": [],
   "source": [
    "#0.0    9359\n",
    "#1.0     727\n",
    "# v16 - 0.110053539559786\n"
   ]
  },
  {
   "cell_type": "code",
   "execution_count": null,
   "metadata": {
    "id": "ghbaPrWF0vU4"
   },
   "outputs": [],
   "source": [
    "#0.0    9367\n",
    "#1.0     719\n",
    "# v17 - 0.108467182232798 year column is not scaled to 2,1,0"
   ]
  },
  {
   "cell_type": "code",
   "execution_count": null,
   "metadata": {
    "id": "O772UE5l6Ken"
   },
   "outputs": [],
   "source": [
    "#0.0    9349\n",
    "#1.0     737\n",
    "# v18 - 0.110251834225659\n"
   ]
  },
  {
   "cell_type": "code",
   "execution_count": null,
   "metadata": {
    "id": "cgoGLehv80zo"
   },
   "outputs": [],
   "source": [
    "#0.0    9359\n",
    "#1.0     727\n",
    "# v19 - 0.110053539559786"
   ]
  },
  {
   "cell_type": "code",
   "execution_count": null,
   "metadata": {
    "id": "yTgbuv3WAfLv"
   },
   "outputs": [],
   "source": [
    "#0.0    9385\n",
    "#1.0     701\n",
    "# v20 - 0.108467182232798 -- my params"
   ]
  },
  {
   "cell_type": "code",
   "execution_count": null,
   "metadata": {
    "id": "ak6PSbylBsLH"
   },
   "outputs": [],
   "source": [
    "#0.0    9344\n",
    "#1.0     742\n",
    "# v21 - 0.108863771564545 --git params"
   ]
  },
  {
   "cell_type": "code",
   "execution_count": null,
   "metadata": {
    "id": "gK2DdTSnFkT1"
   },
   "outputs": [],
   "source": [
    "#0    9340\n",
    "#1     746\n",
    "# v22 - local notbbk -0.11084671822328\n"
   ]
  },
  {
   "cell_type": "code",
   "execution_count": null,
   "metadata": {
    "id": "Vm61AnHOF0k9"
   },
   "outputs": [],
   "source": [
    "#btw - 9367 and 9385???\n",
    "\n",
    "#0.0    9495\n",
    "#1.0     591\n",
    "# ens - 0.110648423557406"
   ]
  },
  {
   "cell_type": "code",
   "execution_count": null,
   "metadata": {
    "id": "YdSgoMlAyuau"
   },
   "outputs": [],
   "source": [
    "#0.0    9347\n",
    "#1.0     739\n",
    "#ens1 -best\n",
    "# 0.0 - 9344 - poor\n",
    "# optimal 40 - 90..."
   ]
  }
 ],
 "metadata": {
  "colab": {
   "collapsed_sections": [],
   "name": "ensemble1.ipynb",
   "provenance": []
  },
  "kernelspec": {
   "display_name": "Python 3",
   "language": "python",
   "name": "python3"
  },
  "language_info": {
   "codemirror_mode": {
    "name": "ipython",
    "version": 3
   },
   "file_extension": ".py",
   "mimetype": "text/x-python",
   "name": "python",
   "nbconvert_exporter": "python",
   "pygments_lexer": "ipython3",
   "version": "3.8.3"
  }
 },
 "nbformat": 4,
 "nbformat_minor": 1
}
