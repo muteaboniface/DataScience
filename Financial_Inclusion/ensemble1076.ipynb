{
  "nbformat": 4,
  "nbformat_minor": 0,
  "metadata": {
    "colab": {
      "name": "ensemble1076.ipynb",
      "provenance": [],
      "collapsed_sections": []
    },
    "kernelspec": {
      "display_name": "Python 3",
      "language": "python",
      "name": "python3"
    },
    "language_info": {
      "codemirror_mode": {
        "name": "ipython",
        "version": 3
      },
      "file_extension": ".py",
      "mimetype": "text/x-python",
      "name": "python",
      "nbconvert_exporter": "python",
      "pygments_lexer": "ipython3",
      "version": "3.8.3"
    }
  },
  "cells": [
    {
      "cell_type": "markdown",
      "metadata": {
        "id": "42Ke-zpx5nLK"
      },
      "source": [
        "## Financial Inclusion in Africa\n"
      ]
    },
    {
      "cell_type": "markdown",
      "metadata": {
        "id": "erAGSH0X5nLS"
      },
      "source": [
        "### Background Information\n",
        "Financial inclusion is the main obstacles to economic and human development in Africa as per studies and research conducted. Only 13.9% of the Adult population is estimated to have access to commercial bank accounts.\n",
        "Acces to a bank account is a contributor to long term economic growth"
      ]
    },
    {
      "cell_type": "markdown",
      "metadata": {
        "id": "UlARh_XZ5nLT"
      },
      "source": [
        "## GOAl\n",
        "Predict which individuals in Kenya,Uganda,Tanzania and Rwanda are most likely to have or use a bank account.   \n",
        "In the process reveal insights into some of the key demographic factors that might drive individuals’ financial outcomes."
      ]
    },
    {
      "cell_type": "markdown",
      "metadata": {
        "id": "8b-n80NS5nLT"
      },
      "source": [
        "#### Importing essential modules"
      ]
    },
    {
      "cell_type": "code",
      "metadata": {
        "id": "lyJEMLlC5nLU"
      },
      "source": [
        "import numpy as np\n",
        "import matplotlib.pyplot as plt\n",
        "import seaborn as sns\n",
        "import pandas as pd\n",
        "import os\n",
        "import platform"
      ],
      "execution_count": 1,
      "outputs": []
    },
    {
      "cell_type": "code",
      "metadata": {
        "colab": {
          "base_uri": "https://localhost:8080/"
        },
        "id": "Yd9biADT5nLV",
        "outputId": "206a118f-843f-44be-a822-abed517a3fa3"
      },
      "source": [
        "def set_seed(SEED=42):\n",
        "    np.random.seed = SEED\n",
        "    os.environ['PYTHONHASHSEED'] = str(SEED)\n",
        "    \n",
        "set_seed()\n",
        "version = platform.python_version()\n",
        "print(\"Python : \",version)\n",
        "print(\"Pandas : \",pd.__version__)\n",
        "print(\"NumPy : \",np.__version__)\n",
        "print(\"Seaborn : \",sns.__version__)"
      ],
      "execution_count": 2,
      "outputs": [
        {
          "output_type": "stream",
          "text": [
            "Python :  3.6.9\n",
            "Pandas :  1.1.5\n",
            "NumPy :  1.18.5\n",
            "Seaborn :  0.11.0\n"
          ],
          "name": "stdout"
        }
      ]
    },
    {
      "cell_type": "markdown",
      "metadata": {
        "id": "3Mrwc60X5nLW"
      },
      "source": [
        "### Getting our data"
      ]
    },
    {
      "cell_type": "code",
      "metadata": {
        "id": "hr36vLI95nLW"
      },
      "source": [
        "train = pd.read_csv('datasets/Train_v2.csv')\n",
        "test = pd.read_csv('datasets/Test_v2.csv')\n",
        "variable = pd.read_csv('datasets/VariableDefinitions.csv')\n",
        "Submission = pd.read_csv('datasets/SubmissionFile.csv')"
      ],
      "execution_count": 3,
      "outputs": []
    },
    {
      "cell_type": "markdown",
      "metadata": {
        "id": "Qp81b9Pm5nLX"
      },
      "source": [
        "#### Visualize and understand our data"
      ]
    },
    {
      "cell_type": "code",
      "metadata": {
        "colab": {
          "base_uri": "https://localhost:8080/",
          "height": 326
        },
        "id": "b_zWS0895nLX",
        "outputId": "3eda49eb-eefc-4afe-b8f6-a68ae89fb91b"
      },
      "source": [
        "train.head()"
      ],
      "execution_count": 4,
      "outputs": [
        {
          "output_type": "execute_result",
          "data": {
            "text/html": [
              "<div>\n",
              "<style scoped>\n",
              "    .dataframe tbody tr th:only-of-type {\n",
              "        vertical-align: middle;\n",
              "    }\n",
              "\n",
              "    .dataframe tbody tr th {\n",
              "        vertical-align: top;\n",
              "    }\n",
              "\n",
              "    .dataframe thead th {\n",
              "        text-align: right;\n",
              "    }\n",
              "</style>\n",
              "<table border=\"1\" class=\"dataframe\">\n",
              "  <thead>\n",
              "    <tr style=\"text-align: right;\">\n",
              "      <th></th>\n",
              "      <th>country</th>\n",
              "      <th>year</th>\n",
              "      <th>uniqueid</th>\n",
              "      <th>bank_account</th>\n",
              "      <th>location_type</th>\n",
              "      <th>cellphone_access</th>\n",
              "      <th>household_size</th>\n",
              "      <th>age_of_respondent</th>\n",
              "      <th>gender_of_respondent</th>\n",
              "      <th>relationship_with_head</th>\n",
              "      <th>marital_status</th>\n",
              "      <th>education_level</th>\n",
              "      <th>job_type</th>\n",
              "    </tr>\n",
              "  </thead>\n",
              "  <tbody>\n",
              "    <tr>\n",
              "      <th>0</th>\n",
              "      <td>Kenya</td>\n",
              "      <td>2018</td>\n",
              "      <td>uniqueid_1</td>\n",
              "      <td>Yes</td>\n",
              "      <td>Rural</td>\n",
              "      <td>Yes</td>\n",
              "      <td>3</td>\n",
              "      <td>24</td>\n",
              "      <td>Female</td>\n",
              "      <td>Spouse</td>\n",
              "      <td>Married/Living together</td>\n",
              "      <td>Secondary education</td>\n",
              "      <td>Self employed</td>\n",
              "    </tr>\n",
              "    <tr>\n",
              "      <th>1</th>\n",
              "      <td>Kenya</td>\n",
              "      <td>2018</td>\n",
              "      <td>uniqueid_2</td>\n",
              "      <td>No</td>\n",
              "      <td>Rural</td>\n",
              "      <td>No</td>\n",
              "      <td>5</td>\n",
              "      <td>70</td>\n",
              "      <td>Female</td>\n",
              "      <td>Head of Household</td>\n",
              "      <td>Widowed</td>\n",
              "      <td>No formal education</td>\n",
              "      <td>Government Dependent</td>\n",
              "    </tr>\n",
              "    <tr>\n",
              "      <th>2</th>\n",
              "      <td>Kenya</td>\n",
              "      <td>2018</td>\n",
              "      <td>uniqueid_3</td>\n",
              "      <td>Yes</td>\n",
              "      <td>Urban</td>\n",
              "      <td>Yes</td>\n",
              "      <td>5</td>\n",
              "      <td>26</td>\n",
              "      <td>Male</td>\n",
              "      <td>Other relative</td>\n",
              "      <td>Single/Never Married</td>\n",
              "      <td>Vocational/Specialised training</td>\n",
              "      <td>Self employed</td>\n",
              "    </tr>\n",
              "    <tr>\n",
              "      <th>3</th>\n",
              "      <td>Kenya</td>\n",
              "      <td>2018</td>\n",
              "      <td>uniqueid_4</td>\n",
              "      <td>No</td>\n",
              "      <td>Rural</td>\n",
              "      <td>Yes</td>\n",
              "      <td>5</td>\n",
              "      <td>34</td>\n",
              "      <td>Female</td>\n",
              "      <td>Head of Household</td>\n",
              "      <td>Married/Living together</td>\n",
              "      <td>Primary education</td>\n",
              "      <td>Formally employed Private</td>\n",
              "    </tr>\n",
              "    <tr>\n",
              "      <th>4</th>\n",
              "      <td>Kenya</td>\n",
              "      <td>2018</td>\n",
              "      <td>uniqueid_5</td>\n",
              "      <td>No</td>\n",
              "      <td>Urban</td>\n",
              "      <td>No</td>\n",
              "      <td>8</td>\n",
              "      <td>26</td>\n",
              "      <td>Male</td>\n",
              "      <td>Child</td>\n",
              "      <td>Single/Never Married</td>\n",
              "      <td>Primary education</td>\n",
              "      <td>Informally employed</td>\n",
              "    </tr>\n",
              "  </tbody>\n",
              "</table>\n",
              "</div>"
            ],
            "text/plain": [
              "  country  year  ...                  education_level                   job_type\n",
              "0   Kenya  2018  ...              Secondary education              Self employed\n",
              "1   Kenya  2018  ...              No formal education       Government Dependent\n",
              "2   Kenya  2018  ...  Vocational/Specialised training              Self employed\n",
              "3   Kenya  2018  ...                Primary education  Formally employed Private\n",
              "4   Kenya  2018  ...                Primary education        Informally employed\n",
              "\n",
              "[5 rows x 13 columns]"
            ]
          },
          "metadata": {
            "tags": []
          },
          "execution_count": 4
        }
      ]
    },
    {
      "cell_type": "code",
      "metadata": {
        "colab": {
          "base_uri": "https://localhost:8080/"
        },
        "id": "l2YRf6c-5nLY",
        "outputId": "41aa9360-c704-4913-cd79-22ca3b1c4e07"
      },
      "source": [
        "train.shape"
      ],
      "execution_count": 5,
      "outputs": [
        {
          "output_type": "execute_result",
          "data": {
            "text/plain": [
              "(23524, 13)"
            ]
          },
          "metadata": {
            "tags": []
          },
          "execution_count": 5
        }
      ]
    },
    {
      "cell_type": "code",
      "metadata": {
        "colab": {
          "base_uri": "https://localhost:8080/",
          "height": 421
        },
        "id": "opkBrJJb5nLY",
        "outputId": "ac36dfda-a508-4b6e-f589-33e70b2f61be"
      },
      "source": [
        "variable"
      ],
      "execution_count": 6,
      "outputs": [
        {
          "output_type": "execute_result",
          "data": {
            "text/html": [
              "<div>\n",
              "<style scoped>\n",
              "    .dataframe tbody tr th:only-of-type {\n",
              "        vertical-align: middle;\n",
              "    }\n",
              "\n",
              "    .dataframe tbody tr th {\n",
              "        vertical-align: top;\n",
              "    }\n",
              "\n",
              "    .dataframe thead th {\n",
              "        text-align: right;\n",
              "    }\n",
              "</style>\n",
              "<table border=\"1\" class=\"dataframe\">\n",
              "  <thead>\n",
              "    <tr style=\"text-align: right;\">\n",
              "      <th></th>\n",
              "      <th>Variable Definitions</th>\n",
              "      <th>Unnamed: 1</th>\n",
              "    </tr>\n",
              "  </thead>\n",
              "  <tbody>\n",
              "    <tr>\n",
              "      <th>0</th>\n",
              "      <td>country</td>\n",
              "      <td>Country interviewee is in.</td>\n",
              "    </tr>\n",
              "    <tr>\n",
              "      <th>1</th>\n",
              "      <td>year</td>\n",
              "      <td>Year survey was done in.</td>\n",
              "    </tr>\n",
              "    <tr>\n",
              "      <th>2</th>\n",
              "      <td>uniqueid</td>\n",
              "      <td>Unique identifier for each interviewee</td>\n",
              "    </tr>\n",
              "    <tr>\n",
              "      <th>3</th>\n",
              "      <td>location_type</td>\n",
              "      <td>Type of location: Rural, Urban</td>\n",
              "    </tr>\n",
              "    <tr>\n",
              "      <th>4</th>\n",
              "      <td>cellphone_access</td>\n",
              "      <td>If interviewee has access to a cellphone: Yes, No</td>\n",
              "    </tr>\n",
              "    <tr>\n",
              "      <th>5</th>\n",
              "      <td>household_size</td>\n",
              "      <td>Number of people living in one house</td>\n",
              "    </tr>\n",
              "    <tr>\n",
              "      <th>6</th>\n",
              "      <td>age_of_respondent</td>\n",
              "      <td>The age of the interviewee</td>\n",
              "    </tr>\n",
              "    <tr>\n",
              "      <th>7</th>\n",
              "      <td>gender_of_respondent</td>\n",
              "      <td>Gender of interviewee: Male, Female</td>\n",
              "    </tr>\n",
              "    <tr>\n",
              "      <th>8</th>\n",
              "      <td>relationship_with_head</td>\n",
              "      <td>The interviewee’s relationship with the head o...</td>\n",
              "    </tr>\n",
              "    <tr>\n",
              "      <th>9</th>\n",
              "      <td>marital_status</td>\n",
              "      <td>The martial status of the interviewee: Married...</td>\n",
              "    </tr>\n",
              "    <tr>\n",
              "      <th>10</th>\n",
              "      <td>education_level</td>\n",
              "      <td>Highest level of education: No formal educatio...</td>\n",
              "    </tr>\n",
              "    <tr>\n",
              "      <th>11</th>\n",
              "      <td>job_type</td>\n",
              "      <td>Type of job interviewee has: Farming and Fishi...</td>\n",
              "    </tr>\n",
              "  </tbody>\n",
              "</table>\n",
              "</div>"
            ],
            "text/plain": [
              "      Variable Definitions                                         Unnamed: 1\n",
              "0                  country                         Country interviewee is in.\n",
              "1                     year                           Year survey was done in.\n",
              "2                 uniqueid             Unique identifier for each interviewee\n",
              "3            location_type                     Type of location: Rural, Urban\n",
              "4         cellphone_access  If interviewee has access to a cellphone: Yes, No\n",
              "5           household_size               Number of people living in one house\n",
              "6        age_of_respondent                         The age of the interviewee\n",
              "7     gender_of_respondent                Gender of interviewee: Male, Female\n",
              "8   relationship_with_head  The interviewee’s relationship with the head o...\n",
              "9           marital_status  The martial status of the interviewee: Married...\n",
              "10         education_level  Highest level of education: No formal educatio...\n",
              "11                job_type  Type of job interviewee has: Farming and Fishi..."
            ]
          },
          "metadata": {
            "tags": []
          },
          "execution_count": 6
        }
      ]
    },
    {
      "cell_type": "code",
      "metadata": {
        "colab": {
          "base_uri": "https://localhost:8080/"
        },
        "id": "MLSb-0Bs5nLY",
        "outputId": "3174d84f-9062-4f0c-811e-1a218eb4a4a5"
      },
      "source": [
        "train.info()"
      ],
      "execution_count": 7,
      "outputs": [
        {
          "output_type": "stream",
          "text": [
            "<class 'pandas.core.frame.DataFrame'>\n",
            "RangeIndex: 23524 entries, 0 to 23523\n",
            "Data columns (total 13 columns):\n",
            " #   Column                  Non-Null Count  Dtype \n",
            "---  ------                  --------------  ----- \n",
            " 0   country                 23524 non-null  object\n",
            " 1   year                    23524 non-null  int64 \n",
            " 2   uniqueid                23524 non-null  object\n",
            " 3   bank_account            23524 non-null  object\n",
            " 4   location_type           23524 non-null  object\n",
            " 5   cellphone_access        23524 non-null  object\n",
            " 6   household_size          23524 non-null  int64 \n",
            " 7   age_of_respondent       23524 non-null  int64 \n",
            " 8   gender_of_respondent    23524 non-null  object\n",
            " 9   relationship_with_head  23524 non-null  object\n",
            " 10  marital_status          23524 non-null  object\n",
            " 11  education_level         23524 non-null  object\n",
            " 12  job_type                23524 non-null  object\n",
            "dtypes: int64(3), object(10)\n",
            "memory usage: 2.3+ MB\n"
          ],
          "name": "stdout"
        }
      ]
    },
    {
      "cell_type": "code",
      "metadata": {
        "id": "-tnRI9_T5nLZ"
      },
      "source": [
        "train.bank_account.replace(['Yes','No'],[1,0],inplace = True)"
      ],
      "execution_count": 8,
      "outputs": []
    },
    {
      "cell_type": "code",
      "metadata": {
        "colab": {
          "base_uri": "https://localhost:8080/",
          "height": 326
        },
        "id": "8l3qX24_5nLZ",
        "outputId": "7430fbde-6d5e-44f9-adff-096cadf61009"
      },
      "source": [
        "train.head()"
      ],
      "execution_count": 9,
      "outputs": [
        {
          "output_type": "execute_result",
          "data": {
            "text/html": [
              "<div>\n",
              "<style scoped>\n",
              "    .dataframe tbody tr th:only-of-type {\n",
              "        vertical-align: middle;\n",
              "    }\n",
              "\n",
              "    .dataframe tbody tr th {\n",
              "        vertical-align: top;\n",
              "    }\n",
              "\n",
              "    .dataframe thead th {\n",
              "        text-align: right;\n",
              "    }\n",
              "</style>\n",
              "<table border=\"1\" class=\"dataframe\">\n",
              "  <thead>\n",
              "    <tr style=\"text-align: right;\">\n",
              "      <th></th>\n",
              "      <th>country</th>\n",
              "      <th>year</th>\n",
              "      <th>uniqueid</th>\n",
              "      <th>bank_account</th>\n",
              "      <th>location_type</th>\n",
              "      <th>cellphone_access</th>\n",
              "      <th>household_size</th>\n",
              "      <th>age_of_respondent</th>\n",
              "      <th>gender_of_respondent</th>\n",
              "      <th>relationship_with_head</th>\n",
              "      <th>marital_status</th>\n",
              "      <th>education_level</th>\n",
              "      <th>job_type</th>\n",
              "    </tr>\n",
              "  </thead>\n",
              "  <tbody>\n",
              "    <tr>\n",
              "      <th>0</th>\n",
              "      <td>Kenya</td>\n",
              "      <td>2018</td>\n",
              "      <td>uniqueid_1</td>\n",
              "      <td>1</td>\n",
              "      <td>Rural</td>\n",
              "      <td>Yes</td>\n",
              "      <td>3</td>\n",
              "      <td>24</td>\n",
              "      <td>Female</td>\n",
              "      <td>Spouse</td>\n",
              "      <td>Married/Living together</td>\n",
              "      <td>Secondary education</td>\n",
              "      <td>Self employed</td>\n",
              "    </tr>\n",
              "    <tr>\n",
              "      <th>1</th>\n",
              "      <td>Kenya</td>\n",
              "      <td>2018</td>\n",
              "      <td>uniqueid_2</td>\n",
              "      <td>0</td>\n",
              "      <td>Rural</td>\n",
              "      <td>No</td>\n",
              "      <td>5</td>\n",
              "      <td>70</td>\n",
              "      <td>Female</td>\n",
              "      <td>Head of Household</td>\n",
              "      <td>Widowed</td>\n",
              "      <td>No formal education</td>\n",
              "      <td>Government Dependent</td>\n",
              "    </tr>\n",
              "    <tr>\n",
              "      <th>2</th>\n",
              "      <td>Kenya</td>\n",
              "      <td>2018</td>\n",
              "      <td>uniqueid_3</td>\n",
              "      <td>1</td>\n",
              "      <td>Urban</td>\n",
              "      <td>Yes</td>\n",
              "      <td>5</td>\n",
              "      <td>26</td>\n",
              "      <td>Male</td>\n",
              "      <td>Other relative</td>\n",
              "      <td>Single/Never Married</td>\n",
              "      <td>Vocational/Specialised training</td>\n",
              "      <td>Self employed</td>\n",
              "    </tr>\n",
              "    <tr>\n",
              "      <th>3</th>\n",
              "      <td>Kenya</td>\n",
              "      <td>2018</td>\n",
              "      <td>uniqueid_4</td>\n",
              "      <td>0</td>\n",
              "      <td>Rural</td>\n",
              "      <td>Yes</td>\n",
              "      <td>5</td>\n",
              "      <td>34</td>\n",
              "      <td>Female</td>\n",
              "      <td>Head of Household</td>\n",
              "      <td>Married/Living together</td>\n",
              "      <td>Primary education</td>\n",
              "      <td>Formally employed Private</td>\n",
              "    </tr>\n",
              "    <tr>\n",
              "      <th>4</th>\n",
              "      <td>Kenya</td>\n",
              "      <td>2018</td>\n",
              "      <td>uniqueid_5</td>\n",
              "      <td>0</td>\n",
              "      <td>Urban</td>\n",
              "      <td>No</td>\n",
              "      <td>8</td>\n",
              "      <td>26</td>\n",
              "      <td>Male</td>\n",
              "      <td>Child</td>\n",
              "      <td>Single/Never Married</td>\n",
              "      <td>Primary education</td>\n",
              "      <td>Informally employed</td>\n",
              "    </tr>\n",
              "  </tbody>\n",
              "</table>\n",
              "</div>"
            ],
            "text/plain": [
              "  country  year  ...                  education_level                   job_type\n",
              "0   Kenya  2018  ...              Secondary education              Self employed\n",
              "1   Kenya  2018  ...              No formal education       Government Dependent\n",
              "2   Kenya  2018  ...  Vocational/Specialised training              Self employed\n",
              "3   Kenya  2018  ...                Primary education  Formally employed Private\n",
              "4   Kenya  2018  ...                Primary education        Informally employed\n",
              "\n",
              "[5 rows x 13 columns]"
            ]
          },
          "metadata": {
            "tags": []
          },
          "execution_count": 9
        }
      ]
    },
    {
      "cell_type": "markdown",
      "metadata": {
        "id": "Rk46ptAq5nLa"
      },
      "source": [
        "# Visualize Categorical values to establish patterns and insights"
      ]
    },
    {
      "cell_type": "code",
      "metadata": {
        "colab": {
          "base_uri": "https://localhost:8080/",
          "height": 279
        },
        "id": "lWWPRbFW5nLa",
        "outputId": "234fd313-f7df-4c6b-96c4-43a5d3ebb046"
      },
      "source": [
        "a = sns.barplot(x=\"year\",y=\"bank_account\",data=train)\n",
        "a = a.set_ylabel(\"bank_account\")"
      ],
      "execution_count": 10,
      "outputs": [
        {
          "output_type": "display_data",
          "data": {
            "image/png": "[encoded data removed]",
            "text/plain": [
              "<Figure size 432x288 with 1 Axes>"
            ]
          },
          "metadata": {
            "tags": [],
            "needs_background": "light"
          }
        }
      ]
    },
    {
      "cell_type": "markdown",
      "metadata": {
        "id": "5KYrnXw65nLa"
      },
      "source": [
        "It seems that the probability of having a bank account for an individual in year 2018 is high as compared to other years"
      ]
    },
    {
      "cell_type": "code",
      "metadata": {
        "colab": {
          "base_uri": "https://localhost:8080/",
          "height": 280
        },
        "id": "I4KAJDfz5nLb",
        "outputId": "5b34e358-a6e6-46e8-85c7-81cc607bc45e"
      },
      "source": [
        "b = sns.barplot(x=\"location_type\",y=\"bank_account\",data=train)\n",
        "b = b.set_ylabel(\"bank_account\")"
      ],
      "execution_count": 11,
      "outputs": [
        {
          "output_type": "display_data",
          "data": {
            "image/png": "[encoded data removed]",
            "text/plain": [
              "<Figure size 432x288 with 1 Axes>"
            ]
          },
          "metadata": {
            "tags": [],
            "needs_background": "light"
          }
        }
      ]
    },
    {
      "cell_type": "code",
      "metadata": {
        "colab": {
          "base_uri": "https://localhost:8080/",
          "height": 280
        },
        "id": "zaXjmBsj5nLb",
        "outputId": "8c23fef2-4c96-440e-96c0-2217107033e4"
      },
      "source": [
        "c = sns.barplot(x=\"cellphone_access\",y=\"bank_account\",data=train)\n",
        "c = c.set_ylabel(\"bank_account\")"
      ],
      "execution_count": 12,
      "outputs": [
        {
          "output_type": "display_data",
          "data": {
            "image/png": "[encoded data removed]",
            "text/plain": [
              "<Figure size 432x288 with 1 Axes>"
            ]
          },
          "metadata": {
            "tags": [],
            "needs_background": "light"
          }
        }
      ]
    },
    {
      "cell_type": "code",
      "metadata": {
        "colab": {
          "base_uri": "https://localhost:8080/",
          "height": 280
        },
        "id": "h_DQTd5I5nLb",
        "outputId": "31b86f02-090f-488f-b41b-00b440f08e6b"
      },
      "source": [
        "d = sns.barplot(x=\"gender_of_respondent\",y=\"bank_account\",data=train)\n",
        "d = d.set_ylabel(\"bank_account\")"
      ],
      "execution_count": 13,
      "outputs": [
        {
          "output_type": "display_data",
          "data": {
            "image/png": "[encoded data removed]",
            "text/plain": [
              "<Figure size 432x288 with 1 Axes>"
            ]
          },
          "metadata": {
            "tags": [],
            "needs_background": "light"
          }
        }
      ]
    },
    {
      "cell_type": "code",
      "metadata": {
        "colab": {
          "base_uri": "https://localhost:8080/",
          "height": 280
        },
        "id": "fRKVvwnm5nLc",
        "outputId": "0df50481-649f-40d4-b4a2-c8a666aa7f0a"
      },
      "source": [
        "d = sns.barplot(x=\"relationship_with_head\",y=\"bank_account\",data=train)\n",
        "d = d.set_ylabel(\"bank_account\")"
      ],
      "execution_count": 14,
      "outputs": [
        {
          "output_type": "display_data",
          "data": {
            "image/png": "[encoded data removed]",
            "text/plain": [
              "<Figure size 432x288 with 1 Axes>"
            ]
          },
          "metadata": {
            "tags": [],
            "needs_background": "light"
          }
        }
      ]
    },
    {
      "cell_type": "markdown",
      "metadata": {
        "id": "mraGqkIg5nLc"
      },
      "source": [
        "This indicates that the elderly are less likely to have a bank account.\n",
        "It is also clear that if a respondent is the Head of the house, it is more likely for them to have a bank account"
      ]
    },
    {
      "cell_type": "code",
      "metadata": {
        "colab": {
          "base_uri": "https://localhost:8080/",
          "height": 498
        },
        "id": "NMorPlmQ5nLc",
        "outputId": "b65c8f3f-c910-4767-d6f9-a4ce3557d8fe"
      },
      "source": [
        "plt.figure(figsize=(16,8))\n",
        "d = sns.barplot(x=\"marital_status\",y=\"bank_account\",data=train)\n",
        "d = d.set_ylabel(\"bank_account\")"
      ],
      "execution_count": 15,
      "outputs": [
        {
          "output_type": "display_data",
          "data": {
            "image/png": "[encoded data removed]",
            "text/plain": [
              "<Figure size 1152x576 with 1 Axes>"
            ]
          },
          "metadata": {
            "tags": [],
            "needs_background": "light"
          }
        }
      ]
    },
    {
      "cell_type": "markdown",
      "metadata": {
        "id": "_KM7A3es5nLd"
      },
      "source": [
        "Married individuals and those who are not aware where they stand in their relationship are more likely to have a bank account.\n",
        "My assumption is individuals who are not aware of their marital status are most likely to be youths already working and trying to settle"
      ]
    },
    {
      "cell_type": "code",
      "metadata": {
        "colab": {
          "base_uri": "https://localhost:8080/",
          "height": 498
        },
        "id": "XjE7fD_b5nLd",
        "outputId": "55213f80-4961-4b32-c73e-6229901080d4"
      },
      "source": [
        "plt.figure(figsize=(16,8))\n",
        "d = sns.barplot(x=\"education_level\",y=\"bank_account\",data=train)\n",
        "d = d.set_ylabel(\"bank_account\")"
      ],
      "execution_count": 16,
      "outputs": [
        {
          "output_type": "display_data",
          "data": {
            "image/png": "[encoded data removed]",
            "text/plain": [
              "<Figure size 1152x576 with 1 Axes>"
            ]
          },
          "metadata": {
            "tags": [],
            "needs_background": "light"
          }
        }
      ]
    },
    {
      "cell_type": "markdown",
      "metadata": {
        "id": "TuGW-dpO5nLd"
      },
      "source": [
        "Individuals in tertiary and vocational training are most likely to have a bank account"
      ]
    },
    {
      "cell_type": "code",
      "metadata": {
        "colab": {
          "base_uri": "https://localhost:8080/",
          "height": 608
        },
        "id": "Sd8tiCj75nLd",
        "outputId": "7fc1c2bf-fa4e-4b17-8631-7e9d73ad556b"
      },
      "source": [
        "plt.figure(figsize=(16,8))\n",
        "d = sns.barplot(x=\"job_type\",y=\"bank_account\",data=train)\n",
        "d.set_xticklabels(d.get_xticklabels(), rotation=45, horizontalalignment='right')\n",
        "d = d.set_ylabel(\"bank_account\")\n",
        "\n"
      ],
      "execution_count": 17,
      "outputs": [
        {
          "output_type": "display_data",
          "data": {
            "image/png": "[encoded data removed]",
            "text/plain": [
              "<Figure size 1152x576 with 1 Axes>"
            ]
          },
          "metadata": {
            "tags": [],
            "needs_background": "light"
          }
        }
      ]
    },
    {
      "cell_type": "markdown",
      "metadata": {
        "id": "m0gKNxr_5nLe"
      },
      "source": [
        "Individuals sith formal employment are more likely to have a bank account.\n",
        "\n",
        "##### In summary we can say that an individual in formal employment, Who is the head of the house hold,with a vocation or tertially education, Married or about to get married(Dont Know-- likely in their prime youthful days),urban resident, with phone access, and surveyed in the year 2018 has 95 percent chance of having a bank account"
      ]
    },
    {
      "cell_type": "markdown",
      "metadata": {
        "id": "u0N57nnE5nLe"
      },
      "source": [
        "### Feature Engineering\n",
        "We concatenate the two datasets to achieve uniform feature conversions during thid exercise"
      ]
    },
    {
      "cell_type": "code",
      "metadata": {
        "id": "BwR6OQAz5nLe"
      },
      "source": [
        "train_len = len(train)\n",
        "train_test = pd.concat([train,test],axis=0).reset_index(drop=True)"
      ],
      "execution_count": 18,
      "outputs": []
    },
    {
      "cell_type": "code",
      "metadata": {
        "colab": {
          "base_uri": "https://localhost:8080/"
        },
        "id": "KIsadx785nLf",
        "outputId": "7f9236b8-6415-45fa-e66d-bd1f1e657350"
      },
      "source": [
        "train_test.info()"
      ],
      "execution_count": 19,
      "outputs": [
        {
          "output_type": "stream",
          "text": [
            "<class 'pandas.core.frame.DataFrame'>\n",
            "RangeIndex: 33610 entries, 0 to 33609\n",
            "Data columns (total 13 columns):\n",
            " #   Column                  Non-Null Count  Dtype  \n",
            "---  ------                  --------------  -----  \n",
            " 0   country                 33610 non-null  object \n",
            " 1   year                    33610 non-null  int64  \n",
            " 2   uniqueid                33610 non-null  object \n",
            " 3   bank_account            23524 non-null  float64\n",
            " 4   location_type           33610 non-null  object \n",
            " 5   cellphone_access        33610 non-null  object \n",
            " 6   household_size          33610 non-null  int64  \n",
            " 7   age_of_respondent       33610 non-null  int64  \n",
            " 8   gender_of_respondent    33610 non-null  object \n",
            " 9   relationship_with_head  33610 non-null  object \n",
            " 10  marital_status          33610 non-null  object \n",
            " 11  education_level         33610 non-null  object \n",
            " 12  job_type                33610 non-null  object \n",
            "dtypes: float64(1), int64(3), object(9)\n",
            "memory usage: 3.3+ MB\n"
          ],
          "name": "stdout"
        }
      ]
    },
    {
      "cell_type": "code",
      "metadata": {
        "colab": {
          "base_uri": "https://localhost:8080/"
        },
        "id": "en8En9V-5nLf",
        "outputId": "48e6ddec-f801-4843-8a01-e7cad46e510b"
      },
      "source": [
        "# Descriptive Analytics\n",
        "tot_len = len(train_test.columns.tolist())\n",
        "print('columns present are \\n {} \\n No of columns is {}'.format(train_test.columns.tolist(),tot_len))\n",
        "train_test.count() # total number of values per column"
      ],
      "execution_count": 20,
      "outputs": [
        {
          "output_type": "stream",
          "text": [
            "columns present are \n",
            " ['country', 'year', 'uniqueid', 'bank_account', 'location_type', 'cellphone_access', 'household_size', 'age_of_respondent', 'gender_of_respondent', 'relationship_with_head', 'marital_status', 'education_level', 'job_type'] \n",
            " No of columns is 13\n"
          ],
          "name": "stdout"
        },
        {
          "output_type": "execute_result",
          "data": {
            "text/plain": [
              "country                   33610\n",
              "year                      33610\n",
              "uniqueid                  33610\n",
              "bank_account              23524\n",
              "location_type             33610\n",
              "cellphone_access          33610\n",
              "household_size            33610\n",
              "age_of_respondent         33610\n",
              "gender_of_respondent      33610\n",
              "relationship_with_head    33610\n",
              "marital_status            33610\n",
              "education_level           33610\n",
              "job_type                  33610\n",
              "dtype: int64"
            ]
          },
          "metadata": {
            "tags": []
          },
          "execution_count": 20
        }
      ]
    },
    {
      "cell_type": "code",
      "metadata": {
        "colab": {
          "base_uri": "https://localhost:8080/"
        },
        "id": "ijqPNy9B5nLf",
        "outputId": "85219fb2-a579-4747-bc29-d183119f3333"
      },
      "source": [
        "leng = len(train_test.describe().keys().tolist())\n",
        "print(\"No of numeric features is \", leng)\n",
        "print(\"Number of non-numeric features are: \", tot_len-leng)"
      ],
      "execution_count": 21,
      "outputs": [
        {
          "output_type": "stream",
          "text": [
            "No of numeric features is  4\n",
            "Number of non-numeric features are:  9\n"
          ],
          "name": "stdout"
        }
      ]
    },
    {
      "cell_type": "code",
      "metadata": {
        "colab": {
          "base_uri": "https://localhost:8080/"
        },
        "id": "JtAnrxK25nLg",
        "outputId": "c583b81f-4770-4876-edd8-8fc1d4c1c4b0"
      },
      "source": [
        "# visualize unique values in all the categorical features\n",
        "n = train_test.nunique(axis=0)\n",
        "print(\"unique values in each column are: \\n\", n)"
      ],
      "execution_count": 22,
      "outputs": [
        {
          "output_type": "stream",
          "text": [
            "unique values in each column are: \n",
            " country                       4\n",
            "year                          3\n",
            "uniqueid                  12480\n",
            "bank_account                  2\n",
            "location_type                 2\n",
            "cellphone_access              2\n",
            "household_size               20\n",
            "age_of_respondent            85\n",
            "gender_of_respondent          2\n",
            "relationship_with_head        6\n",
            "marital_status                5\n",
            "education_level               6\n",
            "job_type                     10\n",
            "dtype: int64\n"
          ],
          "name": "stdout"
        }
      ]
    },
    {
      "cell_type": "markdown",
      "metadata": {
        "id": "aHGT5iNC5nLg"
      },
      "source": [
        "#### Categorical features that can be encoded are\n",
        "    * country\n",
        "    * year\n",
        "    * bank_account\n",
        "    * cellphone_access\n",
        "    * gender_of_respondent\n",
        "    * location_type"
      ]
    },
    {
      "cell_type": "code",
      "metadata": {
        "id": "_A5GBfAt5nLg"
      },
      "source": [
        "# Getting Dummies\n",
        "def getdummies(dataset,col,pref):\n",
        "    dataset = pd.get_dummies(dataset, columns = col, prefix=pref)\n",
        "    return dataset"
      ],
      "execution_count": 23,
      "outputs": []
    },
    {
      "cell_type": "code",
      "metadata": {
        "id": "DzV9iupYoIbQ"
      },
      "source": [
        "from sklearn.preprocessing import LabelEncoder\r\n",
        "le = LabelEncoder()\r\n",
        "\r\n",
        "def col_trans(data,col):\r\n",
        "  data[col] = le.fit_transform(data[col])\r\n"
      ],
      "execution_count": 24,
      "outputs": []
    },
    {
      "cell_type": "code",
      "metadata": {
        "id": "Uoz84t1s5nLg"
      },
      "source": [
        "#train_test = getdummies(train_test,[\"cellphone_access\",\"location_type\",\"gender_of_respondent\"],[\"ce\",\"l\",\"g\"])\r\n",
        "col_trans(train_test,\"cellphone_access\")\r\n",
        "col_trans(train_test,\"location_type\")"
      ],
      "execution_count": 25,
      "outputs": []
    },
    {
      "cell_type": "code",
      "metadata": {
        "id": "g-ghhIXqpogD"
      },
      "source": [
        "col_trans(train_test,\"gender_of_respondent\")"
      ],
      "execution_count": 26,
      "outputs": []
    },
    {
      "cell_type": "code",
      "metadata": {
        "id": "SCw10oRXwA4W"
      },
      "source": [
        "train_test = getdummies(train_test,[\"country\"],[\"co\"])"
      ],
      "execution_count": 27,
      "outputs": []
    },
    {
      "cell_type": "code",
      "metadata": {
        "colab": {
          "base_uri": "https://localhost:8080/",
          "height": 326
        },
        "id": "cFqvH__35nLh",
        "outputId": "3d4a53a8-267b-4aaf-a052-9158e311ea6b"
      },
      "source": [
        "train_test.head()"
      ],
      "execution_count": 28,
      "outputs": [
        {
          "output_type": "execute_result",
          "data": {
            "text/html": [
              "<div>\n",
              "<style scoped>\n",
              "    .dataframe tbody tr th:only-of-type {\n",
              "        vertical-align: middle;\n",
              "    }\n",
              "\n",
              "    .dataframe tbody tr th {\n",
              "        vertical-align: top;\n",
              "    }\n",
              "\n",
              "    .dataframe thead th {\n",
              "        text-align: right;\n",
              "    }\n",
              "</style>\n",
              "<table border=\"1\" class=\"dataframe\">\n",
              "  <thead>\n",
              "    <tr style=\"text-align: right;\">\n",
              "      <th></th>\n",
              "      <th>year</th>\n",
              "      <th>uniqueid</th>\n",
              "      <th>bank_account</th>\n",
              "      <th>location_type</th>\n",
              "      <th>cellphone_access</th>\n",
              "      <th>household_size</th>\n",
              "      <th>age_of_respondent</th>\n",
              "      <th>gender_of_respondent</th>\n",
              "      <th>relationship_with_head</th>\n",
              "      <th>marital_status</th>\n",
              "      <th>education_level</th>\n",
              "      <th>job_type</th>\n",
              "      <th>co_Kenya</th>\n",
              "      <th>co_Rwanda</th>\n",
              "      <th>co_Tanzania</th>\n",
              "      <th>co_Uganda</th>\n",
              "    </tr>\n",
              "  </thead>\n",
              "  <tbody>\n",
              "    <tr>\n",
              "      <th>0</th>\n",
              "      <td>2018</td>\n",
              "      <td>uniqueid_1</td>\n",
              "      <td>1.0</td>\n",
              "      <td>0</td>\n",
              "      <td>1</td>\n",
              "      <td>3</td>\n",
              "      <td>24</td>\n",
              "      <td>0</td>\n",
              "      <td>Spouse</td>\n",
              "      <td>Married/Living together</td>\n",
              "      <td>Secondary education</td>\n",
              "      <td>Self employed</td>\n",
              "      <td>1</td>\n",
              "      <td>0</td>\n",
              "      <td>0</td>\n",
              "      <td>0</td>\n",
              "    </tr>\n",
              "    <tr>\n",
              "      <th>1</th>\n",
              "      <td>2018</td>\n",
              "      <td>uniqueid_2</td>\n",
              "      <td>0.0</td>\n",
              "      <td>0</td>\n",
              "      <td>0</td>\n",
              "      <td>5</td>\n",
              "      <td>70</td>\n",
              "      <td>0</td>\n",
              "      <td>Head of Household</td>\n",
              "      <td>Widowed</td>\n",
              "      <td>No formal education</td>\n",
              "      <td>Government Dependent</td>\n",
              "      <td>1</td>\n",
              "      <td>0</td>\n",
              "      <td>0</td>\n",
              "      <td>0</td>\n",
              "    </tr>\n",
              "    <tr>\n",
              "      <th>2</th>\n",
              "      <td>2018</td>\n",
              "      <td>uniqueid_3</td>\n",
              "      <td>1.0</td>\n",
              "      <td>1</td>\n",
              "      <td>1</td>\n",
              "      <td>5</td>\n",
              "      <td>26</td>\n",
              "      <td>1</td>\n",
              "      <td>Other relative</td>\n",
              "      <td>Single/Never Married</td>\n",
              "      <td>Vocational/Specialised training</td>\n",
              "      <td>Self employed</td>\n",
              "      <td>1</td>\n",
              "      <td>0</td>\n",
              "      <td>0</td>\n",
              "      <td>0</td>\n",
              "    </tr>\n",
              "    <tr>\n",
              "      <th>3</th>\n",
              "      <td>2018</td>\n",
              "      <td>uniqueid_4</td>\n",
              "      <td>0.0</td>\n",
              "      <td>0</td>\n",
              "      <td>1</td>\n",
              "      <td>5</td>\n",
              "      <td>34</td>\n",
              "      <td>0</td>\n",
              "      <td>Head of Household</td>\n",
              "      <td>Married/Living together</td>\n",
              "      <td>Primary education</td>\n",
              "      <td>Formally employed Private</td>\n",
              "      <td>1</td>\n",
              "      <td>0</td>\n",
              "      <td>0</td>\n",
              "      <td>0</td>\n",
              "    </tr>\n",
              "    <tr>\n",
              "      <th>4</th>\n",
              "      <td>2018</td>\n",
              "      <td>uniqueid_5</td>\n",
              "      <td>0.0</td>\n",
              "      <td>1</td>\n",
              "      <td>0</td>\n",
              "      <td>8</td>\n",
              "      <td>26</td>\n",
              "      <td>1</td>\n",
              "      <td>Child</td>\n",
              "      <td>Single/Never Married</td>\n",
              "      <td>Primary education</td>\n",
              "      <td>Informally employed</td>\n",
              "      <td>1</td>\n",
              "      <td>0</td>\n",
              "      <td>0</td>\n",
              "      <td>0</td>\n",
              "    </tr>\n",
              "  </tbody>\n",
              "</table>\n",
              "</div>"
            ],
            "text/plain": [
              "   year    uniqueid  bank_account  ...  co_Rwanda  co_Tanzania  co_Uganda\n",
              "0  2018  uniqueid_1           1.0  ...          0            0          0\n",
              "1  2018  uniqueid_2           0.0  ...          0            0          0\n",
              "2  2018  uniqueid_3           1.0  ...          0            0          0\n",
              "3  2018  uniqueid_4           0.0  ...          0            0          0\n",
              "4  2018  uniqueid_5           0.0  ...          0            0          0\n",
              "\n",
              "[5 rows x 16 columns]"
            ]
          },
          "metadata": {
            "tags": []
          },
          "execution_count": 28
        }
      ]
    },
    {
      "cell_type": "code",
      "metadata": {
        "id": "OWvE5Xt35nLh"
      },
      "source": [
        "# lets drop the uniqueid since its insignificant\n",
        "train_test.drop(columns=[\"uniqueid\"],inplace=True)"
      ],
      "execution_count": 29,
      "outputs": []
    },
    {
      "cell_type": "code",
      "metadata": {
        "id": "HLgyhdX75nLh"
      },
      "source": [
        "def unique_vals(col):\n",
        "    return pd.unique(train_test[col])"
      ],
      "execution_count": 30,
      "outputs": []
    },
    {
      "cell_type": "code",
      "metadata": {
        "colab": {
          "base_uri": "https://localhost:8080/"
        },
        "id": "Pesl74-M5nLh",
        "outputId": "f14837ba-80a7-4970-fe9c-6a6474d83bb8"
      },
      "source": [
        "# Unique columns in ralationship column\n",
        "print(\"relationship with head unique vals\",unique_vals(\"relationship_with_head\"))\n",
        "print(\"marital_status unique vals\",unique_vals(\"marital_status\"))\n",
        "print(\"education_level unique vals\",unique_vals(\"education_level\"))\n",
        "print(\"job_type unique vals\",unique_vals(\"job_type\"))"
      ],
      "execution_count": 31,
      "outputs": [
        {
          "output_type": "stream",
          "text": [
            "relationship with head unique vals ['Spouse' 'Head of Household' 'Other relative' 'Child' 'Parent'\n",
            " 'Other non-relatives']\n",
            "marital_status unique vals ['Married/Living together' 'Widowed' 'Single/Never Married'\n",
            " 'Divorced/Seperated' 'Dont know']\n",
            "education_level unique vals ['Secondary education' 'No formal education'\n",
            " 'Vocational/Specialised training' 'Primary education'\n",
            " 'Tertiary education' 'Other/Dont know/RTA']\n",
            "job_type unique vals ['Self employed' 'Government Dependent' 'Formally employed Private'\n",
            " 'Informally employed' 'Formally employed Government'\n",
            " 'Farming and Fishing' 'Remittance Dependent' 'Other Income'\n",
            " 'Dont Know/Refuse to answer' 'No Income']\n"
          ],
          "name": "stdout"
        }
      ]
    },
    {
      "cell_type": "code",
      "metadata": {
        "id": "qmDr6VQ_5nLi"
      },
      "source": [
        "# Transforming the relationship column\n",
        "def col_transform(dataset,col,vals,reps): \n",
        "        dataset[col].replace(vals,reps,inplace = True)"
      ],
      "execution_count": 32,
      "outputs": []
    },
    {
      "cell_type": "code",
      "metadata": {
        "id": "wg9-1xPW5nLi"
      },
      "source": [
        "col_transform(train_test,'relationship_with_head',['Spouse','Head of Household','Other relative','Child','Parent','Other non-relatives'],['S','H','O_R','C','P','N_R'])\n",
        "# Transform marital_status column\n",
        "col_transform(train_test,'marital_status',['Married/Living together','Widowed','Single/Never Married','Divorced/Seperated','Dont know'],['M','W','S','D','DN'])\n",
        "# Transform education_level column\n",
        "col_transform(train_test,'education_level',['Secondary education','No formal education','Vocational/Specialised training','Primary education','Tertiary education','Other/Dont know/RTA'],['S','N','V','P','T','ODR'])\n",
        "# Transform job_type column\n",
        "col_transform(train_test,'job_type',['Self employed', 'Government Dependent',\n",
        "       'Formally employed Private', 'Informally employed',\n",
        "       'Formally employed Government', 'Farming and Fishing',\n",
        "       'Remittance Dependent', 'Other Income',\n",
        "       'Dont Know/Refuse to answer', 'No Income'],['SE','GD','FEP','IE','FEG','FF','RD','OI','DK','NI'])\n"
      ],
      "execution_count": 33,
      "outputs": []
    },
    {
      "cell_type": "code",
      "metadata": {
        "id": "dgbMd9fj5nLi"
      },
      "source": [
        "# Get dummies of the remaining categorical features\n",
        "train_test = getdummies(train_test,[\"relationship_with_head\",\"marital_status\",\"education_level\",\"job_type\"],[\"r\",\"m\",\"e\",\"j\"])"
      ],
      "execution_count": 34,
      "outputs": []
    },
    {
      "cell_type": "code",
      "metadata": {
        "colab": {
          "base_uri": "https://localhost:8080/",
          "height": 224
        },
        "id": "1bplQ2By5nLj",
        "outputId": "9d8d8753-a5d1-4115-ce88-3a0e5501deb1"
      },
      "source": [
        "train_test.head()"
      ],
      "execution_count": 35,
      "outputs": [
        {
          "output_type": "execute_result",
          "data": {
            "text/html": [
              "<div>\n",
              "<style scoped>\n",
              "    .dataframe tbody tr th:only-of-type {\n",
              "        vertical-align: middle;\n",
              "    }\n",
              "\n",
              "    .dataframe tbody tr th {\n",
              "        vertical-align: top;\n",
              "    }\n",
              "\n",
              "    .dataframe thead th {\n",
              "        text-align: right;\n",
              "    }\n",
              "</style>\n",
              "<table border=\"1\" class=\"dataframe\">\n",
              "  <thead>\n",
              "    <tr style=\"text-align: right;\">\n",
              "      <th></th>\n",
              "      <th>year</th>\n",
              "      <th>bank_account</th>\n",
              "      <th>location_type</th>\n",
              "      <th>cellphone_access</th>\n",
              "      <th>household_size</th>\n",
              "      <th>age_of_respondent</th>\n",
              "      <th>gender_of_respondent</th>\n",
              "      <th>co_Kenya</th>\n",
              "      <th>co_Rwanda</th>\n",
              "      <th>co_Tanzania</th>\n",
              "      <th>co_Uganda</th>\n",
              "      <th>r_C</th>\n",
              "      <th>r_H</th>\n",
              "      <th>r_N_R</th>\n",
              "      <th>r_O_R</th>\n",
              "      <th>r_P</th>\n",
              "      <th>r_S</th>\n",
              "      <th>m_D</th>\n",
              "      <th>m_DN</th>\n",
              "      <th>m_M</th>\n",
              "      <th>m_S</th>\n",
              "      <th>m_W</th>\n",
              "      <th>e_N</th>\n",
              "      <th>e_ODR</th>\n",
              "      <th>e_P</th>\n",
              "      <th>e_S</th>\n",
              "      <th>e_T</th>\n",
              "      <th>e_V</th>\n",
              "      <th>j_DK</th>\n",
              "      <th>j_FEG</th>\n",
              "      <th>j_FEP</th>\n",
              "      <th>j_FF</th>\n",
              "      <th>j_GD</th>\n",
              "      <th>j_IE</th>\n",
              "      <th>j_NI</th>\n",
              "      <th>j_OI</th>\n",
              "      <th>j_RD</th>\n",
              "      <th>j_SE</th>\n",
              "    </tr>\n",
              "  </thead>\n",
              "  <tbody>\n",
              "    <tr>\n",
              "      <th>0</th>\n",
              "      <td>2018</td>\n",
              "      <td>1.0</td>\n",
              "      <td>0</td>\n",
              "      <td>1</td>\n",
              "      <td>3</td>\n",
              "      <td>24</td>\n",
              "      <td>0</td>\n",
              "      <td>1</td>\n",
              "      <td>0</td>\n",
              "      <td>0</td>\n",
              "      <td>0</td>\n",
              "      <td>0</td>\n",
              "      <td>0</td>\n",
              "      <td>0</td>\n",
              "      <td>0</td>\n",
              "      <td>0</td>\n",
              "      <td>1</td>\n",
              "      <td>0</td>\n",
              "      <td>0</td>\n",
              "      <td>1</td>\n",
              "      <td>0</td>\n",
              "      <td>0</td>\n",
              "      <td>0</td>\n",
              "      <td>0</td>\n",
              "      <td>0</td>\n",
              "      <td>1</td>\n",
              "      <td>0</td>\n",
              "      <td>0</td>\n",
              "      <td>0</td>\n",
              "      <td>0</td>\n",
              "      <td>0</td>\n",
              "      <td>0</td>\n",
              "      <td>0</td>\n",
              "      <td>0</td>\n",
              "      <td>0</td>\n",
              "      <td>0</td>\n",
              "      <td>0</td>\n",
              "      <td>1</td>\n",
              "    </tr>\n",
              "    <tr>\n",
              "      <th>1</th>\n",
              "      <td>2018</td>\n",
              "      <td>0.0</td>\n",
              "      <td>0</td>\n",
              "      <td>0</td>\n",
              "      <td>5</td>\n",
              "      <td>70</td>\n",
              "      <td>0</td>\n",
              "      <td>1</td>\n",
              "      <td>0</td>\n",
              "      <td>0</td>\n",
              "      <td>0</td>\n",
              "      <td>0</td>\n",
              "      <td>1</td>\n",
              "      <td>0</td>\n",
              "      <td>0</td>\n",
              "      <td>0</td>\n",
              "      <td>0</td>\n",
              "      <td>0</td>\n",
              "      <td>0</td>\n",
              "      <td>0</td>\n",
              "      <td>0</td>\n",
              "      <td>1</td>\n",
              "      <td>1</td>\n",
              "      <td>0</td>\n",
              "      <td>0</td>\n",
              "      <td>0</td>\n",
              "      <td>0</td>\n",
              "      <td>0</td>\n",
              "      <td>0</td>\n",
              "      <td>0</td>\n",
              "      <td>0</td>\n",
              "      <td>0</td>\n",
              "      <td>1</td>\n",
              "      <td>0</td>\n",
              "      <td>0</td>\n",
              "      <td>0</td>\n",
              "      <td>0</td>\n",
              "      <td>0</td>\n",
              "    </tr>\n",
              "    <tr>\n",
              "      <th>2</th>\n",
              "      <td>2018</td>\n",
              "      <td>1.0</td>\n",
              "      <td>1</td>\n",
              "      <td>1</td>\n",
              "      <td>5</td>\n",
              "      <td>26</td>\n",
              "      <td>1</td>\n",
              "      <td>1</td>\n",
              "      <td>0</td>\n",
              "      <td>0</td>\n",
              "      <td>0</td>\n",
              "      <td>0</td>\n",
              "      <td>0</td>\n",
              "      <td>0</td>\n",
              "      <td>1</td>\n",
              "      <td>0</td>\n",
              "      <td>0</td>\n",
              "      <td>0</td>\n",
              "      <td>0</td>\n",
              "      <td>0</td>\n",
              "      <td>1</td>\n",
              "      <td>0</td>\n",
              "      <td>0</td>\n",
              "      <td>0</td>\n",
              "      <td>0</td>\n",
              "      <td>0</td>\n",
              "      <td>0</td>\n",
              "      <td>1</td>\n",
              "      <td>0</td>\n",
              "      <td>0</td>\n",
              "      <td>0</td>\n",
              "      <td>0</td>\n",
              "      <td>0</td>\n",
              "      <td>0</td>\n",
              "      <td>0</td>\n",
              "      <td>0</td>\n",
              "      <td>0</td>\n",
              "      <td>1</td>\n",
              "    </tr>\n",
              "    <tr>\n",
              "      <th>3</th>\n",
              "      <td>2018</td>\n",
              "      <td>0.0</td>\n",
              "      <td>0</td>\n",
              "      <td>1</td>\n",
              "      <td>5</td>\n",
              "      <td>34</td>\n",
              "      <td>0</td>\n",
              "      <td>1</td>\n",
              "      <td>0</td>\n",
              "      <td>0</td>\n",
              "      <td>0</td>\n",
              "      <td>0</td>\n",
              "      <td>1</td>\n",
              "      <td>0</td>\n",
              "      <td>0</td>\n",
              "      <td>0</td>\n",
              "      <td>0</td>\n",
              "      <td>0</td>\n",
              "      <td>0</td>\n",
              "      <td>1</td>\n",
              "      <td>0</td>\n",
              "      <td>0</td>\n",
              "      <td>0</td>\n",
              "      <td>0</td>\n",
              "      <td>1</td>\n",
              "      <td>0</td>\n",
              "      <td>0</td>\n",
              "      <td>0</td>\n",
              "      <td>0</td>\n",
              "      <td>0</td>\n",
              "      <td>1</td>\n",
              "      <td>0</td>\n",
              "      <td>0</td>\n",
              "      <td>0</td>\n",
              "      <td>0</td>\n",
              "      <td>0</td>\n",
              "      <td>0</td>\n",
              "      <td>0</td>\n",
              "    </tr>\n",
              "    <tr>\n",
              "      <th>4</th>\n",
              "      <td>2018</td>\n",
              "      <td>0.0</td>\n",
              "      <td>1</td>\n",
              "      <td>0</td>\n",
              "      <td>8</td>\n",
              "      <td>26</td>\n",
              "      <td>1</td>\n",
              "      <td>1</td>\n",
              "      <td>0</td>\n",
              "      <td>0</td>\n",
              "      <td>0</td>\n",
              "      <td>1</td>\n",
              "      <td>0</td>\n",
              "      <td>0</td>\n",
              "      <td>0</td>\n",
              "      <td>0</td>\n",
              "      <td>0</td>\n",
              "      <td>0</td>\n",
              "      <td>0</td>\n",
              "      <td>0</td>\n",
              "      <td>1</td>\n",
              "      <td>0</td>\n",
              "      <td>0</td>\n",
              "      <td>0</td>\n",
              "      <td>1</td>\n",
              "      <td>0</td>\n",
              "      <td>0</td>\n",
              "      <td>0</td>\n",
              "      <td>0</td>\n",
              "      <td>0</td>\n",
              "      <td>0</td>\n",
              "      <td>0</td>\n",
              "      <td>0</td>\n",
              "      <td>1</td>\n",
              "      <td>0</td>\n",
              "      <td>0</td>\n",
              "      <td>0</td>\n",
              "      <td>0</td>\n",
              "    </tr>\n",
              "  </tbody>\n",
              "</table>\n",
              "</div>"
            ],
            "text/plain": [
              "   year  bank_account  location_type  cellphone_access  ...  j_NI  j_OI  j_RD  j_SE\n",
              "0  2018           1.0              0                 1  ...     0     0     0     1\n",
              "1  2018           0.0              0                 0  ...     0     0     0     0\n",
              "2  2018           1.0              1                 1  ...     0     0     0     1\n",
              "3  2018           0.0              0                 1  ...     0     0     0     0\n",
              "4  2018           0.0              1                 0  ...     0     0     0     0\n",
              "\n",
              "[5 rows x 38 columns]"
            ]
          },
          "metadata": {
            "tags": []
          },
          "execution_count": 35
        }
      ]
    },
    {
      "cell_type": "markdown",
      "metadata": {
        "id": "zpRreAoJ5nLk"
      },
      "source": [
        "## Modelling\n",
        "#### Models to test\n",
        "    SVC\n",
        "    Decision Tree\n",
        "    AdaBoost\n",
        "    Random Forest\n",
        "    KNN\n",
        "    Logistic regression\n",
        "#### Other Models That can be used\n",
        "    Extra Trees\n",
        "    Gradient Boosting\n",
        "    Multiple layer perceprton (neural network)\n",
        "    Linear Discriminant Analysis"
      ]
    },
    {
      "cell_type": "code",
      "metadata": {
        "colab": {
          "base_uri": "https://localhost:8080/"
        },
        "id": "_0jZ3l9HsNOA",
        "outputId": "b2e07907-ae1f-48fa-fe9c-a7301cbbb018"
      },
      "source": [
        "train_test.info()"
      ],
      "execution_count": 36,
      "outputs": [
        {
          "output_type": "stream",
          "text": [
            "<class 'pandas.core.frame.DataFrame'>\n",
            "RangeIndex: 33610 entries, 0 to 33609\n",
            "Data columns (total 38 columns):\n",
            " #   Column                Non-Null Count  Dtype  \n",
            "---  ------                --------------  -----  \n",
            " 0   year                  33610 non-null  int64  \n",
            " 1   bank_account          23524 non-null  float64\n",
            " 2   location_type         33610 non-null  int64  \n",
            " 3   cellphone_access      33610 non-null  int64  \n",
            " 4   household_size        33610 non-null  int64  \n",
            " 5   age_of_respondent     33610 non-null  int64  \n",
            " 6   gender_of_respondent  33610 non-null  int64  \n",
            " 7   co_Kenya              33610 non-null  uint8  \n",
            " 8   co_Rwanda             33610 non-null  uint8  \n",
            " 9   co_Tanzania           33610 non-null  uint8  \n",
            " 10  co_Uganda             33610 non-null  uint8  \n",
            " 11  r_C                   33610 non-null  uint8  \n",
            " 12  r_H                   33610 non-null  uint8  \n",
            " 13  r_N_R                 33610 non-null  uint8  \n",
            " 14  r_O_R                 33610 non-null  uint8  \n",
            " 15  r_P                   33610 non-null  uint8  \n",
            " 16  r_S                   33610 non-null  uint8  \n",
            " 17  m_D                   33610 non-null  uint8  \n",
            " 18  m_DN                  33610 non-null  uint8  \n",
            " 19  m_M                   33610 non-null  uint8  \n",
            " 20  m_S                   33610 non-null  uint8  \n",
            " 21  m_W                   33610 non-null  uint8  \n",
            " 22  e_N                   33610 non-null  uint8  \n",
            " 23  e_ODR                 33610 non-null  uint8  \n",
            " 24  e_P                   33610 non-null  uint8  \n",
            " 25  e_S                   33610 non-null  uint8  \n",
            " 26  e_T                   33610 non-null  uint8  \n",
            " 27  e_V                   33610 non-null  uint8  \n",
            " 28  j_DK                  33610 non-null  uint8  \n",
            " 29  j_FEG                 33610 non-null  uint8  \n",
            " 30  j_FEP                 33610 non-null  uint8  \n",
            " 31  j_FF                  33610 non-null  uint8  \n",
            " 32  j_GD                  33610 non-null  uint8  \n",
            " 33  j_IE                  33610 non-null  uint8  \n",
            " 34  j_NI                  33610 non-null  uint8  \n",
            " 35  j_OI                  33610 non-null  uint8  \n",
            " 36  j_RD                  33610 non-null  uint8  \n",
            " 37  j_SE                  33610 non-null  uint8  \n",
            "dtypes: float64(1), int64(6), uint8(31)\n",
            "memory usage: 2.8 MB\n"
          ],
          "name": "stdout"
        }
      ]
    },
    {
      "cell_type": "code",
      "metadata": {
        "colab": {
          "base_uri": "https://localhost:8080/"
        },
        "id": "CoXiMQhd5nLk",
        "outputId": "a75e888d-3c0c-4e45-d438-cfea2d20e6c2"
      },
      "source": [
        "# obtain back our train and test datasets\n",
        "train = train_test[:train_len]\n",
        "testf = train_test[train_len:]\n",
        "testf.drop(labels=[\"bank_account\"],axis = 1,inplace=True)"
      ],
      "execution_count": 37,
      "outputs": [
        {
          "output_type": "stream",
          "text": [
            "/usr/local/lib/python3.6/dist-packages/pandas/core/frame.py:4174: SettingWithCopyWarning: \n",
            "A value is trying to be set on a copy of a slice from a DataFrame\n",
            "\n",
            "See the caveats in the documentation: https://pandas.pydata.org/pandas-docs/stable/user_guide/indexing.html#returning-a-view-versus-a-copy\n",
            "  errors=errors,\n"
          ],
          "name": "stderr"
        }
      ]
    },
    {
      "cell_type": "code",
      "metadata": {
        "id": "2urGHRfl5nLk"
      },
      "source": [
        "## Separate train features and label \n",
        "\n",
        "#train[\"bank_account\"] = train[\"bank_account\"].astype(int)\n",
        "\n",
        "Y_train = train[\"bank_account\"]\n",
        "\n",
        "X_train = train.drop(labels = [\"bank_account\"],axis = 1)"
      ],
      "execution_count": 38,
      "outputs": []
    },
    {
      "cell_type": "code",
      "metadata": {
        "id": "ytVIwcQ85nLk"
      },
      "source": [
        "from sklearn.model_selection import GridSearchCV, cross_val_score, StratifiedKFold,train_test_split\n",
        "from sklearn.metrics import confusion_matrix,accuracy_score #precision_score, recall_score,f1_score,\n",
        "from xgboost import XGBClassifier\n",
        "from sklearn.svm import SVC\n",
        "from sklearn.ensemble import VotingClassifier,GradientBoostingClassifier\n",
        "\n",
        "sns.set(style='white', context='notebook', palette='deep')"
      ],
      "execution_count": 39,
      "outputs": []
    },
    {
      "cell_type": "markdown",
      "metadata": {
        "id": "9cAjRWPm5nLl"
      },
      "source": [
        "## Evaluating our model with\n",
        "    * Without Dimension Reduction\n"
      ]
    },
    {
      "cell_type": "markdown",
      "metadata": {
        "id": "t61iNvqL5nLl"
      },
      "source": [
        "### Lets try and Rescale our data to see its effecton overall perfomance"
      ]
    },
    {
      "cell_type": "code",
      "metadata": {
        "id": "VBzRZFwM5nLl"
      },
      "source": [
        "# minimal error before this action is 0.113..Random Forest\n",
        "from sklearn.preprocessing import MinMaxScaler  \n",
        "scaler = MinMaxScaler(feature_range=(0, 1))  \n",
        "\n",
        "X_train_rescaled = scaler.fit_transform(X_train)\n",
        "testf_rescaled = scaler.fit_transform(testf)"
      ],
      "execution_count": 40,
      "outputs": []
    },
    {
      "cell_type": "code",
      "metadata": {
        "id": "MITIJWJI5nLm"
      },
      "source": [
        "xtrain, xtest, ytrain, ytest = train_test_split(X_train_rescaled, Y_train, train_size=0.85,test_size=0.15, random_state=42)"
      ],
      "execution_count": 41,
      "outputs": []
    },
    {
      "cell_type": "markdown",
      "metadata": {
        "id": "6gmnZ8c65nLm"
      },
      "source": [
        "#### We evaluate model perfomance using gridsearchcv to optimize our XGBClassifier\n",
        "    * Finding the best hyper parameters"
      ]
    },
    {
      "cell_type": "code",
      "metadata": {
        "colab": {
          "base_uri": "https://localhost:8080/",
          "height": 86
        },
        "id": "eHg-BmnYINzw",
        "outputId": "a7f7e2aa-7f4e-443d-c514-9021fa9e6106"
      },
      "source": [
        "kfold = StratifiedKFold(n_splits=10)\r\n",
        "\r\n",
        "'''GBC = GradientBoostingClassifier()\r\n",
        "gb_param_grid = {'loss' : [\"deviance\"],\r\n",
        "              'n_estimators' : [100,200,300],\r\n",
        "              'learning_rate': [0.1, 0.05, 0.01],\r\n",
        "              'max_depth': [4, 8],\r\n",
        "              'min_samples_leaf': [100,150],\r\n",
        "              'max_features': [0.3, 0.1] \r\n",
        "              }\r\n",
        "\r\n",
        "gsGBC = GridSearchCV(GBC,param_grid = gb_param_grid, cv=kfold, scoring=\"accuracy\", n_jobs= 4, verbose = 10)\r\n",
        "\r\n",
        "gsGBC.fit(xtrain,ytrain)\r\n",
        "\r\n",
        "GBC_best = gsGBC.best_estimator_\r\n",
        "\r\n",
        "# Best score\r\n",
        "gsGBC.best_score_'''"
      ],
      "execution_count": 42,
      "outputs": [
        {
          "output_type": "execute_result",
          "data": {
            "application/vnd.google.colaboratory.intrinsic+json": {
              "type": "string"
            },
            "text/plain": [
              "'GBC = GradientBoostingClassifier()\\ngb_param_grid = {\\'loss\\' : [\"deviance\"],\\n              \\'n_estimators\\' : [100,200,300],\\n              \\'learning_rate\\': [0.1, 0.05, 0.01],\\n              \\'max_depth\\': [4, 8],\\n              \\'min_samples_leaf\\': [100,150],\\n              \\'max_features\\': [0.3, 0.1] \\n              }\\n\\ngsGBC = GridSearchCV(GBC,param_grid = gb_param_grid, cv=kfold, scoring=\"accuracy\", n_jobs= 4, verbose = 10)\\n\\ngsGBC.fit(xtrain,ytrain)\\n\\nGBC_best = gsGBC.best_estimator_\\n\\n# Best score\\ngsGBC.best_score_'"
            ]
          },
          "metadata": {
            "tags": []
          },
          "execution_count": 42
        }
      ]
    },
    {
      "cell_type": "code",
      "metadata": {
        "id": "YkLSKKEPz3he"
      },
      "source": [
        "#gsGBC.best_params_\r\n",
        "#{'learning_rate': 0.05,'loss': 'deviance', 'max_depth': 8, 'max_features': 0.1, 'min_samples_leaf': 150, 'n_estimators': 300}"
      ],
      "execution_count": 43,
      "outputs": []
    },
    {
      "cell_type": "code",
      "metadata": {
        "colab": {
          "base_uri": "https://localhost:8080/",
          "height": 103
        },
        "id": "C-OL1rlnoh-X",
        "outputId": "e0ceb256-48f4-4276-f176-29dbb6a55fa0"
      },
      "source": [
        "'''xgb_pipeline =XGBClassifier()\r\n",
        "    \r\n",
        "# param to be tested \r\n",
        "gbm_param_grid = {'min_child_weight': [1, 5, 7,10],\r\n",
        "        'gamma': [0.5, 1, 1.5, 2, 5],\r\n",
        "        'subsample': [0.6, 0.8, 1.0],\r\n",
        "        'colsample_bytree': [0.6, 0.8, 1.0],\r\n",
        "        'max_depth': [3, 4, 5,6,7]\r\n",
        "        }\r\n",
        "\r\n",
        "# configure the gridsearch \r\n",
        "grid_search = GridSearchCV(estimator=xgb_pipeline, param_grid=gbm_param_grid,n_jobs = -1, verbose=10 )\r\n",
        "# n_jobs : number of thread in parallel if -1 means max thread used\r\n",
        "# cv : number of fold in cross-validation\r\n",
        "\r\n",
        "# train the models \r\n",
        "grid_search.fit(xtrain,ytrain)'''"
      ],
      "execution_count": 44,
      "outputs": [
        {
          "output_type": "execute_result",
          "data": {
            "application/vnd.google.colaboratory.intrinsic+json": {
              "type": "string"
            },
            "text/plain": [
              "\"xgb_pipeline =XGBClassifier()\\n    \\n# param to be tested \\ngbm_param_grid = {'min_child_weight': [1, 5, 7,10],\\n        'gamma': [0.5, 1, 1.5, 2, 5],\\n        'subsample': [0.6, 0.8, 1.0],\\n        'colsample_bytree': [0.6, 0.8, 1.0],\\n        'max_depth': [3, 4, 5,6,7]\\n        }\\n\\n# configure the gridsearch \\ngrid_search = GridSearchCV(estimator=xgb_pipeline, param_grid=gbm_param_grid,n_jobs = -1, verbose=10 )\\n# n_jobs : number of thread in parallel if -1 means max thread used\\n# cv : number of fold in cross-validation\\n\\n# train the models \\ngrid_search.fit(xtrain,ytrain)\""
            ]
          },
          "metadata": {
            "tags": []
          },
          "execution_count": 44
        }
      ]
    },
    {
      "cell_type": "code",
      "metadata": {
        "id": "bN6ms-DVdsbe"
      },
      "source": [
        "#grid_search.best_params_\r\n"
      ],
      "execution_count": 45,
      "outputs": []
    },
    {
      "cell_type": "code",
      "metadata": {
        "colab": {
          "base_uri": "https://localhost:8080/"
        },
        "id": "tRgJVZlydw8p",
        "outputId": "36b63c5f-c37a-4d32-fd51-519e911770eb"
      },
      "source": [
        "model1 = XGBClassifier(min_child_weight = 5, subsample = 1.0, colsample_bytree = 1.0, max_depth = 5,gamma=1)# min_child_weight = 5, subsample = 1.0, colsample_bytree = 1.0, max_depth = 5,gamma=1\r\n",
        "results = cross_val_score(model1, xtrain, y = ytrain, scoring = \"accuracy\",cv = kfold, n_jobs=4)\r\n",
        "error = 1 - results.mean()\r\n",
        "print(error)\r\n",
        "# 0.11232788894447232"
      ],
      "execution_count": 46,
      "outputs": [
        {
          "output_type": "stream",
          "text": [
            "0.11232788894447232\n"
          ],
          "name": "stdout"
        }
      ]
    },
    {
      "cell_type": "code",
      "metadata": {
        "colab": {
          "base_uri": "https://localhost:8080/"
        },
        "id": "mvKz9gXKJr1u",
        "outputId": "4e7e8639-1282-4765-e6be-a93a5fcc5639"
      },
      "source": [
        "model2 = GradientBoostingClassifier(learning_rate= 0.05,loss='deviance', max_depth= 8, max_features= 0.1, min_samples_leaf= 150, n_estimators= 300)\r\n",
        "results = cross_val_score(model2, xtrain, y = ytrain, scoring = \"accuracy\",cv = kfold, n_jobs=4)\r\n",
        "error = 1 - results.mean()\r\n",
        "print(error)\r\n",
        "#0.11212803901950985"
      ],
      "execution_count": 47,
      "outputs": [
        {
          "output_type": "stream",
          "text": [
            "0.11187811405702863\n"
          ],
          "name": "stdout"
        }
      ]
    },
    {
      "cell_type": "code",
      "metadata": {
        "colab": {
          "base_uri": "https://localhost:8080/"
        },
        "id": "06KKXPqfINcR",
        "outputId": "e8709e59-d321-43a4-ecb2-da3786258319"
      },
      "source": [
        "model1.fit(xtrain,ytrain)\n",
        "y_pred = model1.predict(xtest)\n",
        "\n",
        "# Get error rate\n",
        "print(\"Error rate of Random Forest classifier: \", 1 - accuracy_score(ytest, y_pred))\n",
        "\n",
        "# Get confusion matrix\n",
        "confusion_matrix(y_pred, ytest)"
      ],
      "execution_count": 49,
      "outputs": [
        {
          "output_type": "stream",
          "text": [
            "Error rate of Random Forest classifier:  0.10937942759988661\n"
          ],
          "name": "stdout"
        },
        {
          "output_type": "execute_result",
          "data": {
            "text/plain": [
              "array([[2975,  323],\n",
              "       [  63,  168]])"
            ]
          },
          "metadata": {
            "tags": []
          },
          "execution_count": 49
        }
      ]
    },
    {
      "cell_type": "code",
      "metadata": {
        "colab": {
          "base_uri": "https://localhost:8080/"
        },
        "id": "XxCXXGNsX1WJ",
        "outputId": "12f5b199-4e99-4fec-b596-06670a8e3128"
      },
      "source": [
        "model2.fit(xtrain,ytrain)\r\n",
        "y_pred = model2.predict(xtest)\r\n",
        "\r\n",
        "# Get error rate\r\n",
        "print(\"Error rate of Random Forest classifier: \", 1 - accuracy_score(ytest, y_pred))\r\n",
        "\r\n",
        "# Get confusion matrix\r\n",
        "confusion_matrix(y_pred, ytest)\r\n",
        "# 0.11079625956361572"
      ],
      "execution_count": 50,
      "outputs": [
        {
          "output_type": "stream",
          "text": [
            "Error rate of Random Forest classifier:  0.10796259563615751\n"
          ],
          "name": "stdout"
        },
        {
          "output_type": "execute_result",
          "data": {
            "text/plain": [
              "array([[2967,  310],\n",
              "       [  71,  181]])"
            ]
          },
          "metadata": {
            "tags": []
          },
          "execution_count": 50
        }
      ]
    },
    {
      "cell_type": "code",
      "metadata": {
        "id": "161fJDp1LbsR"
      },
      "source": [
        "votingC = VotingClassifier(estimators=[('GBC', model2), ('XGB',model1)], voting='soft', n_jobs=-1)\r\n",
        "\r\n",
        "votingC = votingC.fit(xtrain, ytrain)"
      ],
      "execution_count": 51,
      "outputs": []
    },
    {
      "cell_type": "markdown",
      "metadata": {
        "id": "-jPrJv2p5nLo"
      },
      "source": [
        "## Summary"
      ]
    },
    {
      "cell_type": "code",
      "metadata": {
        "colab": {
          "base_uri": "https://localhost:8080/",
          "height": 204
        },
        "id": "AytHmDQi5nLo",
        "outputId": "4a86b21e-f948-40c8-fa76-bb6b68dd5ab6"
      },
      "source": [
        "Submission.head()"
      ],
      "execution_count": 52,
      "outputs": [
        {
          "output_type": "execute_result",
          "data": {
            "text/html": [
              "<div>\n",
              "<style scoped>\n",
              "    .dataframe tbody tr th:only-of-type {\n",
              "        vertical-align: middle;\n",
              "    }\n",
              "\n",
              "    .dataframe tbody tr th {\n",
              "        vertical-align: top;\n",
              "    }\n",
              "\n",
              "    .dataframe thead th {\n",
              "        text-align: right;\n",
              "    }\n",
              "</style>\n",
              "<table border=\"1\" class=\"dataframe\">\n",
              "  <thead>\n",
              "    <tr style=\"text-align: right;\">\n",
              "      <th></th>\n",
              "      <th>uniqueid</th>\n",
              "      <th>bank_account</th>\n",
              "    </tr>\n",
              "  </thead>\n",
              "  <tbody>\n",
              "    <tr>\n",
              "      <th>0</th>\n",
              "      <td>uniqueid_7867 x Kenya</td>\n",
              "      <td>1.0</td>\n",
              "    </tr>\n",
              "    <tr>\n",
              "      <th>1</th>\n",
              "      <td>uniqueid_6722 x Kenya</td>\n",
              "      <td>0.0</td>\n",
              "    </tr>\n",
              "    <tr>\n",
              "      <th>2</th>\n",
              "      <td>uniqueid_6714 x Kenya</td>\n",
              "      <td>1.0</td>\n",
              "    </tr>\n",
              "    <tr>\n",
              "      <th>3</th>\n",
              "      <td>uniqueid_8103 x Kenya</td>\n",
              "      <td>1.0</td>\n",
              "    </tr>\n",
              "    <tr>\n",
              "      <th>4</th>\n",
              "      <td>uniqueid_8657 x Kenya</td>\n",
              "      <td>1.0</td>\n",
              "    </tr>\n",
              "  </tbody>\n",
              "</table>\n",
              "</div>"
            ],
            "text/plain": [
              "                uniqueid  bank_account\n",
              "0  uniqueid_7867 x Kenya           1.0\n",
              "1  uniqueid_6722 x Kenya           0.0\n",
              "2  uniqueid_6714 x Kenya           1.0\n",
              "3  uniqueid_8103 x Kenya           1.0\n",
              "4  uniqueid_8657 x Kenya           1.0"
            ]
          },
          "metadata": {
            "tags": []
          },
          "execution_count": 52
        }
      ]
    },
    {
      "cell_type": "code",
      "metadata": {
        "colab": {
          "base_uri": "https://localhost:8080/"
        },
        "id": "VpzBvMB7fHgg",
        "outputId": "8d0646ed-1842-4c10-b710-2640400abec2"
      },
      "source": [
        "test.shape"
      ],
      "execution_count": 53,
      "outputs": [
        {
          "output_type": "execute_result",
          "data": {
            "text/plain": [
              "(10086, 12)"
            ]
          },
          "metadata": {
            "tags": []
          },
          "execution_count": 53
        }
      ]
    },
    {
      "cell_type": "code",
      "metadata": {
        "id": "uraSIe7h5nLp"
      },
      "source": [
        "final_results = list(map(float,votingC.predict(testf_rescaled)))\n",
        "Submission['Bank_account'] = final_results\n",
        "Submission['uniqueid'] = test['uniqueid'].astype(str) + ' x ' +  test['country'].astype(str)\n",
        "Submission = Submission[['uniqueid','Bank_account']]"
      ],
      "execution_count": 54,
      "outputs": []
    },
    {
      "cell_type": "code",
      "metadata": {
        "colab": {
          "base_uri": "https://localhost:8080/"
        },
        "id": "bYVEKSaL5nLp",
        "outputId": "7af1c7a4-2135-4bcf-da10-003fa58a6008"
      },
      "source": [
        "Submission.Bank_account.value_counts()"
      ],
      "execution_count": 55,
      "outputs": [
        {
          "output_type": "execute_result",
          "data": {
            "text/plain": [
              "0.0    9362\n",
              "1.0     724\n",
              "Name: Bank_account, dtype: int64"
            ]
          },
          "metadata": {
            "tags": []
          },
          "execution_count": 55
        }
      ]
    },
    {
      "cell_type": "code",
      "metadata": {
        "id": "QfwAI-wb5nLp"
      },
      "source": [
        "Submission.to_csv('ensemble1.csv', index=False)"
      ],
      "execution_count": 56,
      "outputs": []
    },
    {
      "cell_type": "markdown",
      "metadata": {
        "id": "7m_lVb5x5nLp"
      },
      "source": [
        "### TODO\n",
        "### Remodel with dimensionality reduction --done\n",
        "#### Remodel with additional feature addition\n",
        "#### Remodel with optimal k value for the knn classifier -- done\n",
        "## Remodel with minmaxscaling --done\n",
        "## remodel with country and year dropped - done\n",
        "### Use the XGBoost model\n",
        "### model with optimised svc hyperparameters\n"
      ]
    },
    {
      "cell_type": "markdown",
      "metadata": {
        "id": "c6MIDngM5nLq"
      },
      "source": [
        "# Findings1\n",
        "* When our data is rescalled, the svc perfoms better than The LogisticRegression resulting to minimal misclassification error.\n",
        "* Model perfomance 1. SVC 2. Logisticegression 3. KNN\n",
        "* It is clear that svc perfomes better with data of uniform size."
      ]
    },
    {
      "cell_type": "markdown",
      "metadata": {
        "id": "dU4W-iNk5nLq"
      },
      "source": [
        "### Findings 2\n",
        "accuracy before dimensionality reduction - 0.11262262916939181   \n",
        "accuracy after dimension reduction - 0.11556572923479413\n",
        "Logistic regression perfoms better than SVC\n",
        "\n",
        "Dimensionality reduction desnt improve model perfomance in this case"
      ]
    },
    {
      "cell_type": "markdown",
      "metadata": {
        "id": "ApuP2hLf5nLq"
      },
      "source": [
        "## Findings 3- optimal k value.21\n",
        "best error - 0.11262262916939181   \n",
        "error after test - 0.11576193590582073\n",
        "perfomance best than the previous KNN without optimised k value but still dont beat the svc"
      ]
    },
    {
      "cell_type": "markdown",
      "metadata": {
        "id": "jZ-qKpVy5nLq"
      },
      "source": [
        "## Findings 4 - optimised SVC\n",
        "svc error before optimisation - 0.11262262916939181 \n",
        "error after grid search optimisation -0.10991012873451544  \n",
        "time of grid search optimisation - recommend running this in colab\n",
        "## Grid searchCv optimises the SVC model and doesnt result to better perfomance..no idea why..sth must have been wrongly implemented"
      ]
    },
    {
      "cell_type": "markdown",
      "metadata": {
        "id": "zhkbxVK3bqqv"
      },
      "source": [
        "## xGboost perfomance looks promising..\n",
        "\n",
        "### 0.107 and 0.109 is the difference in perfomance of first submission and my submission.\n",
        "\n",
        "# TODO- clean notebook and find a way to improve it.\n",
        "## Drop columns country and year -X\n",
        "    * find best learning rate...0.3\n",
        "    * Tweak the parameters further and understand the model better,..push it to the edge.\n",
        "GOal - beat 0.10954578576633467  \n"
      ]
    },
    {
      "cell_type": "code",
      "metadata": {
        "id": "_tj7hO7DDyXw"
      },
      "source": [
        "ten = pd.read_csv('financial_inclusionv10.csv')\r\n",
        "elev = pd.read_csv('financial_inclusionv11.csv')\r\n",
        "twel = pd.read_csv('financial_inclusionv12.csv')"
      ],
      "execution_count": null,
      "outputs": []
    },
    {
      "cell_type": "code",
      "metadata": {
        "id": "9F-B_WRQgSzq"
      },
      "source": [
        "ten.Bank_account.value_counts() # 0.112433075550268\r\n"
      ],
      "execution_count": null,
      "outputs": []
    },
    {
      "cell_type": "code",
      "metadata": {
        "id": "7V3bHEadga-7"
      },
      "source": [
        "elev.Bank_account.value_counts() # 0.110450128891533"
      ],
      "execution_count": null,
      "outputs": []
    },
    {
      "cell_type": "code",
      "metadata": {
        "id": "gqQsXvP0gevM"
      },
      "source": [
        "twel.Bank_account.value_counts() # 0.1114416022209\r\n"
      ],
      "execution_count": null,
      "outputs": []
    },
    {
      "cell_type": "code",
      "metadata": {
        "id": "2cJ6oUheiORA"
      },
      "source": [
        "#0.0    9396\r\n",
        "#1.0     690\r\n",
        "# v13 - 0.108665476898671\r\n"
      ],
      "execution_count": null,
      "outputs": []
    },
    {
      "cell_type": "code",
      "metadata": {
        "id": "giUkUox2uIjR"
      },
      "source": [
        "#v14 - 0.109656950228039\r\n",
        "\r\n",
        "#0.0    9406\r\n",
        "#1.0     680"
      ],
      "execution_count": null,
      "outputs": []
    },
    {
      "cell_type": "code",
      "metadata": {
        "id": "w_w02YxMxm8Y"
      },
      "source": [
        "#0.0    9400\r\n",
        "#1.0     686\r\n",
        "# v15 - 0.1114416022209"
      ],
      "execution_count": null,
      "outputs": []
    },
    {
      "cell_type": "code",
      "metadata": {
        "id": "SM3MNFbDzg-r"
      },
      "source": [
        "#0.0    9359\r\n",
        "#1.0     727\r\n",
        "# v16 - 0.110053539559786\r\n"
      ],
      "execution_count": null,
      "outputs": []
    },
    {
      "cell_type": "code",
      "metadata": {
        "id": "ghbaPrWF0vU4"
      },
      "source": [
        "#0.0    9367\r\n",
        "#1.0     719\r\n",
        "# v17 - 0.108467182232798 year column is not scaled to 2,1,0"
      ],
      "execution_count": null,
      "outputs": []
    },
    {
      "cell_type": "code",
      "metadata": {
        "id": "O772UE5l6Ken"
      },
      "source": [
        "#0.0    9349\r\n",
        "#1.0     737\r\n",
        "# v18 - 0.110251834225659\r\n"
      ],
      "execution_count": null,
      "outputs": []
    },
    {
      "cell_type": "code",
      "metadata": {
        "id": "cgoGLehv80zo"
      },
      "source": [
        "#0.0    9359\r\n",
        "#1.0     727\r\n",
        "# v19 - 0.110053539559786"
      ],
      "execution_count": null,
      "outputs": []
    },
    {
      "cell_type": "code",
      "metadata": {
        "id": "yTgbuv3WAfLv"
      },
      "source": [
        "#0.0    9385\r\n",
        "#1.0     701\r\n",
        "# v20 - 0.108467182232798 -- my params"
      ],
      "execution_count": null,
      "outputs": []
    },
    {
      "cell_type": "code",
      "metadata": {
        "id": "ak6PSbylBsLH"
      },
      "source": [
        "#0.0    9344\r\n",
        "#1.0     742\r\n",
        "# v21 - 0.108863771564545 --git params"
      ],
      "execution_count": null,
      "outputs": []
    },
    {
      "cell_type": "code",
      "metadata": {
        "id": "gK2DdTSnFkT1"
      },
      "source": [
        "#0    9340\r\n",
        "#1     746\r\n",
        "# v22 - local notbbk -0.11084671822328\r\n"
      ],
      "execution_count": null,
      "outputs": []
    },
    {
      "cell_type": "code",
      "metadata": {
        "id": "Vm61AnHOF0k9"
      },
      "source": [
        "#btw - 9367 and 9385???\r\n",
        "\r\n",
        "#0.0    9495\r\n",
        "#1.0     591\r\n",
        "# ens - 0.110648423557406"
      ],
      "execution_count": null,
      "outputs": []
    },
    {
      "cell_type": "code",
      "metadata": {
        "id": "YdSgoMlAyuau"
      },
      "source": [
        "#0.0    9347\r\n",
        "#1.0     739\r\n",
        "#ens1 - 0.102..\r\n"
      ],
      "execution_count": null,
      "outputs": []
    },
    {
      "cell_type": "code",
      "metadata": {
        "id": "B-AYYW7jNoSG"
      },
      "source": [
        "#0 - 9367\r\n",
        "# -\r\n",
        "# 0.107674003569304\r\n"
      ],
      "execution_count": null,
      "outputs": []
    }
  ]
}